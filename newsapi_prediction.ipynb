{
 "cells": [
  {
   "cell_type": "markdown",
   "id": "eaa2af88",
   "metadata": {},
   "source": [
    "# Sentiment Analysis with Hugging Face\n",
    "\n",
    "This project applies **zero-shot classification** using Hugging Face Transformers to categorize news articles into themes such as politics, sports, business, science, and more. The workflow involves cleaning and preparing the dataset, predicting categories with a DistilBERT MNLI model, merging predictions with metadata (countries, cities, nationalities), and generating insightful visualizations. Interactive charts and maps built with Plotly highlight the distribution of categories globally and across specific locations, while the enriched dataset is exported for further exploration in Streamlit.\n"
   ]
  },
  {
   "cell_type": "markdown",
   "id": "910a67cc",
   "metadata": {},
   "source": []
  },
  {
   "cell_type": "code",
   "execution_count": 1,
   "id": "c8edb5f9",
   "metadata": {},
   "outputs": [],
   "source": [
    "import pandas as pd\n",
    "import numpy as np\n",
    "import matplotlib.pyplot as plt\n",
    "import json\n",
    "\n",
    "import geonamescache\n",
    "import geopandas as gpd\n",
    "from shapely.geometry import Point\n",
    "\n",
    "import plotly.express as px\n",
    "\n",
    "from transformers import pipeline \n",
    "# import country_converter as coco\n",
    "\n",
    "import torch"
   ]
  },
  {
   "cell_type": "code",
   "execution_count": 2,
   "id": "14458ad7",
   "metadata": {},
   "outputs": [
    {
     "data": {
      "text/html": [
       "<div>\n",
       "<style scoped>\n",
       "    .dataframe tbody tr th:only-of-type {\n",
       "        vertical-align: middle;\n",
       "    }\n",
       "\n",
       "    .dataframe tbody tr th {\n",
       "        vertical-align: top;\n",
       "    }\n",
       "\n",
       "    .dataframe thead th {\n",
       "        text-align: right;\n",
       "    }\n",
       "</style>\n",
       "<table border=\"1\" class=\"dataframe\">\n",
       "  <thead>\n",
       "    <tr style=\"text-align: right;\">\n",
       "      <th></th>\n",
       "      <th>text</th>\n",
       "      <th>countries</th>\n",
       "      <th>nationalities</th>\n",
       "      <th>cities</th>\n",
       "    </tr>\n",
       "  </thead>\n",
       "  <tbody>\n",
       "    <tr>\n",
       "      <th>0</th>\n",
       "      <td>Ukraine: Angry Zelensky vows to punish Russian...</td>\n",
       "      <td>Ukraine</td>\n",
       "      <td>Ukrainian</td>\n",
       "      <td>NaN</td>\n",
       "    </tr>\n",
       "    <tr>\n",
       "      <th>1</th>\n",
       "      <td>Ukraine: Angry Zelensky vows to punish Russian...</td>\n",
       "      <td>NaN</td>\n",
       "      <td>Russian</td>\n",
       "      <td>NaN</td>\n",
       "    </tr>\n",
       "    <tr>\n",
       "      <th>2</th>\n",
       "      <td>War in Ukraine: Taking cover in a town under a...</td>\n",
       "      <td>Ukraine</td>\n",
       "      <td>Russian</td>\n",
       "      <td>Irpin</td>\n",
       "    </tr>\n",
       "    <tr>\n",
       "      <th>3</th>\n",
       "      <td>Ukraine war 'catastrophic for global food' One...</td>\n",
       "      <td>Ukraine</td>\n",
       "      <td>NaN</td>\n",
       "      <td>NaN</td>\n",
       "    </tr>\n",
       "    <tr>\n",
       "      <th>4</th>\n",
       "      <td>Manchester Arena bombing: Saffie Roussos's par...</td>\n",
       "      <td>NaN</td>\n",
       "      <td>NaN</td>\n",
       "      <td>NaN</td>\n",
       "    </tr>\n",
       "  </tbody>\n",
       "</table>\n",
       "</div>"
      ],
      "text/plain": [
       "                                                text countries nationalities  \\\n",
       "0  Ukraine: Angry Zelensky vows to punish Russian...   Ukraine     Ukrainian   \n",
       "1  Ukraine: Angry Zelensky vows to punish Russian...       NaN       Russian   \n",
       "2  War in Ukraine: Taking cover in a town under a...   Ukraine       Russian   \n",
       "3  Ukraine war 'catastrophic for global food' One...   Ukraine           NaN   \n",
       "4  Manchester Arena bombing: Saffie Roussos's par...       NaN           NaN   \n",
       "\n",
       "  cities  \n",
       "0    NaN  \n",
       "1    NaN  \n",
       "2  Irpin  \n",
       "3    NaN  \n",
       "4    NaN  "
      ]
     },
     "execution_count": 2,
     "metadata": {},
     "output_type": "execute_result"
    }
   ],
   "source": [
    "# import dataset for prediction \n",
    "df_pred = pd.read_csv('dataset/new_data.csv')\n",
    "df_pred.head()"
   ]
  },
  {
   "cell_type": "code",
   "execution_count": 3,
   "id": "1156ad42",
   "metadata": {},
   "outputs": [
    {
     "data": {
      "text/plain": [
       "(47087, 4)"
      ]
     },
     "execution_count": 3,
     "metadata": {},
     "output_type": "execute_result"
    }
   ],
   "source": [
    "df_pred.shape"
   ]
  },
  {
   "cell_type": "code",
   "execution_count": 4,
   "id": "00d901de",
   "metadata": {},
   "outputs": [
    {
     "data": {
      "text/plain": [
       "(39653, 4)"
      ]
     },
     "execution_count": 4,
     "metadata": {},
     "output_type": "execute_result"
    }
   ],
   "source": [
    "# drop title duplicates\n",
    "# and remove duplicates for prediction using HuggingFace \n",
    "df_pred = df_pred.drop_duplicates(subset='text')\n",
    "df_pred.shape"
   ]
  },
  {
   "cell_type": "code",
   "execution_count": 5,
   "id": "b85402ea",
   "metadata": {},
   "outputs": [
    {
     "data": {
      "text/plain": [
       "nationalities\n",
       "Russian          660\n",
       "British          590\n",
       "Tory             378\n",
       "Israeli          341\n",
       "Scottish         220\n",
       "French           204\n",
       "Ukrainian        203\n",
       "American         153\n",
       "European         150\n",
       "Indian           127\n",
       "Chinese          114\n",
       "Australian       107\n",
       "Irish            102\n",
       "German            94\n",
       "Spanish           80\n",
       "Italian           73\n",
       "Ukrainians        68\n",
       "Republican        66\n",
       "Conservatives     66\n",
       "Canadian          63\n",
       "Name: count, dtype: int64"
      ]
     },
     "execution_count": 5,
     "metadata": {},
     "output_type": "execute_result"
    }
   ],
   "source": [
    "df_pred.nationalities.value_counts()[:20]"
   ]
  },
  {
   "cell_type": "code",
   "execution_count": 6,
   "id": "ba862413",
   "metadata": {},
   "outputs": [],
   "source": [
    "# capitalize\n",
    "# df_pred.nationalities = df_pred.nationalities.str.capitalize()"
   ]
  },
  {
   "cell_type": "code",
   "execution_count": 7,
   "id": "66cb4bd8",
   "metadata": {},
   "outputs": [],
   "source": [
    "### some values in 'Nationalities' virtually mean the same thing. E.g. Russian and Russians, Ukrainian and ukrainians, Nigeria and Nigerians.\n",
    "### We strip the last word 's' in the values for better exploration and Analysis\n",
    "\n",
    "df_pred.nationalities = df_pred.nationalities.str.rstrip('s')"
   ]
  },
  {
   "cell_type": "code",
   "execution_count": 8,
   "id": "260dae11",
   "metadata": {},
   "outputs": [
    {
     "data": {
      "text/plain": [
       "nationalities\n",
       "Russian         722\n",
       "British         590\n",
       "Israeli         382\n",
       "Tory            378\n",
       "Ukrainian       271\n",
       "Scottish        220\n",
       "American        206\n",
       "French          204\n",
       "European        151\n",
       "Indian          134\n",
       "Australian      123\n",
       "Chinese         114\n",
       "Republican      113\n",
       "Palestinian     103\n",
       "German          103\n",
       "Irish           102\n",
       "Conservative     98\n",
       "Spanish          80\n",
       "Italian          77\n",
       "Canadian         66\n",
       "Name: count, dtype: int64"
      ]
     },
     "execution_count": 8,
     "metadata": {},
     "output_type": "execute_result"
    }
   ],
   "source": [
    "df_pred.nationalities.value_counts()[:20]"
   ]
  },
  {
   "cell_type": "code",
   "execution_count": null,
   "id": "40647ecb",
   "metadata": {},
   "outputs": [],
   "source": []
  },
  {
   "cell_type": "markdown",
   "id": "6b936402",
   "metadata": {},
   "source": [
    "## Predictions using HuggingFace"
   ]
  },
  {
   "cell_type": "markdown",
   "id": "4cfbd22b",
   "metadata": {},
   "source": [
    "###### Using 10K records for prediction as against ~49K records\n",
    "###### Running on CPU"
   ]
  },
  {
   "cell_type": "code",
   "execution_count": 9,
   "id": "3e96c307",
   "metadata": {},
   "outputs": [],
   "source": [
    "# df_pred = df_pred.drop_duplicates(subset='processed_desc')\n",
    "df_pred = df_pred.sample(frac=1)\n",
    "df_pred = df_pred.iloc[:10_000, :]"
   ]
  },
  {
   "cell_type": "code",
   "execution_count": 10,
   "id": "9e42c5fe",
   "metadata": {},
   "outputs": [],
   "source": [
    "df_pred.drop(columns=['nationalities', 'cities', 'countries'], inplace=True)"
   ]
  },
  {
   "cell_type": "code",
   "execution_count": 11,
   "id": "73455180",
   "metadata": {},
   "outputs": [
    {
     "data": {
      "text/html": [
       "<div>\n",
       "<style scoped>\n",
       "    .dataframe tbody tr th:only-of-type {\n",
       "        vertical-align: middle;\n",
       "    }\n",
       "\n",
       "    .dataframe tbody tr th {\n",
       "        vertical-align: top;\n",
       "    }\n",
       "\n",
       "    .dataframe thead th {\n",
       "        text-align: right;\n",
       "    }\n",
       "</style>\n",
       "<table border=\"1\" class=\"dataframe\">\n",
       "  <thead>\n",
       "    <tr style=\"text-align: right;\">\n",
       "      <th></th>\n",
       "      <th>text</th>\n",
       "    </tr>\n",
       "  </thead>\n",
       "  <tbody>\n",
       "    <tr>\n",
       "      <th>16096</th>\n",
       "      <td>Hampshire firefighters in 25-hour earthquake r...</td>\n",
       "    </tr>\n",
       "    <tr>\n",
       "      <th>37476</th>\n",
       "      <td>Boys detained for zombie-knife killing of teen...</td>\n",
       "    </tr>\n",
       "    <tr>\n",
       "      <th>2482</th>\n",
       "      <td>World Snooker Championship: Pigeon disrupts th...</td>\n",
       "    </tr>\n",
       "    <tr>\n",
       "      <th>37076</th>\n",
       "      <td>Man Utd fight back twice to beat Sheff Utd lat...</td>\n",
       "    </tr>\n",
       "    <tr>\n",
       "      <th>20945</th>\n",
       "      <td>Champions League final 2023: Fans react to Man...</td>\n",
       "    </tr>\n",
       "  </tbody>\n",
       "</table>\n",
       "</div>"
      ],
      "text/plain": [
       "                                                    text\n",
       "16096  Hampshire firefighters in 25-hour earthquake r...\n",
       "37476  Boys detained for zombie-knife killing of teen...\n",
       "2482   World Snooker Championship: Pigeon disrupts th...\n",
       "37076  Man Utd fight back twice to beat Sheff Utd lat...\n",
       "20945  Champions League final 2023: Fans react to Man..."
      ]
     },
     "execution_count": 11,
     "metadata": {},
     "output_type": "execute_result"
    }
   ],
   "source": [
    "df_pred.head()"
   ]
  },
  {
   "cell_type": "code",
   "execution_count": null,
   "id": "490b3c4e",
   "metadata": {},
   "outputs": [],
   "source": []
  },
  {
   "cell_type": "markdown",
   "id": "8c6bc2f0",
   "metadata": {},
   "source": [
    "##### Uncomment for the line of code below.\n",
    "##### Running on CPU "
   ]
  },
  {
   "cell_type": "code",
   "execution_count": null,
   "id": "71cbd9f2",
   "metadata": {},
   "outputs": [
    {
     "name": "stdout",
     "output_type": "stream",
     "text": [
      "2.8.0+cpu\n",
      "CUDA available: False\n"
     ]
    }
   ],
   "source": [
    "# print(torch.__version__)\n",
    "# print(\"CUDA available:\", torch.cuda.is_available())\n"
   ]
  },
  {
   "cell_type": "code",
   "execution_count": null,
   "id": "4b49fe7a",
   "metadata": {},
   "outputs": [
    {
     "name": "stderr",
     "output_type": "stream",
     "text": [
      "Device set to use cpu\n"
     ]
    }
   ],
   "source": [
    "# # Load classifier\n",
    "# device = 0 if torch.cuda.is_available() else -1\n",
    "# classifier = pipeline(\n",
    "#     \"zero-shot-classification\",\n",
    "#     model=\"./distilbert-mnli-model\",\n",
    "#     tokenizer=\"./distilbert-mnli-model\",\n",
    "#     device=device\n",
    "# )"
   ]
  },
  {
   "cell_type": "code",
   "execution_count": null,
   "id": "99225ab3",
   "metadata": {},
   "outputs": [
    {
     "name": "stdout",
     "output_type": "stream",
     "text": [
      "Processed 32 / 10000\n",
      "Processed 64 / 10000\n",
      "Processed 96 / 10000\n",
      "Processed 128 / 10000\n",
      "Processed 160 / 10000\n",
      "Processed 192 / 10000\n",
      "Processed 224 / 10000\n",
      "Processed 256 / 10000\n",
      "Processed 288 / 10000\n",
      "Processed 320 / 10000\n",
      "Processed 352 / 10000\n",
      "Processed 384 / 10000\n",
      "Processed 416 / 10000\n",
      "Processed 448 / 10000\n",
      "Processed 480 / 10000\n",
      "Processed 512 / 10000\n",
      "Processed 544 / 10000\n",
      "Processed 576 / 10000\n",
      "Processed 608 / 10000\n",
      "Processed 640 / 10000\n",
      "Processed 672 / 10000\n",
      "Processed 704 / 10000\n",
      "Processed 736 / 10000\n",
      "Processed 768 / 10000\n",
      "Processed 800 / 10000\n",
      "Processed 832 / 10000\n",
      "Processed 864 / 10000\n",
      "Processed 896 / 10000\n",
      "Processed 928 / 10000\n",
      "Processed 960 / 10000\n",
      "Processed 992 / 10000\n",
      "Processed 1024 / 10000\n",
      "Processed 1056 / 10000\n",
      "Processed 1088 / 10000\n",
      "Processed 1120 / 10000\n",
      "Processed 1152 / 10000\n",
      "Processed 1184 / 10000\n",
      "Processed 1216 / 10000\n",
      "Processed 1248 / 10000\n",
      "Processed 1280 / 10000\n",
      "Processed 1312 / 10000\n",
      "Processed 1344 / 10000\n",
      "Processed 1376 / 10000\n",
      "Processed 1408 / 10000\n",
      "Processed 1440 / 10000\n",
      "Processed 1472 / 10000\n",
      "Processed 1504 / 10000\n",
      "Processed 1536 / 10000\n",
      "Processed 1568 / 10000\n",
      "Processed 1600 / 10000\n",
      "Processed 1632 / 10000\n",
      "Processed 1664 / 10000\n",
      "Processed 1696 / 10000\n",
      "Processed 1728 / 10000\n",
      "Processed 1760 / 10000\n",
      "Processed 1792 / 10000\n",
      "Processed 1824 / 10000\n",
      "Processed 1856 / 10000\n",
      "Processed 1888 / 10000\n",
      "Processed 1920 / 10000\n",
      "Processed 1952 / 10000\n",
      "Processed 1984 / 10000\n",
      "Processed 2016 / 10000\n",
      "Processed 2048 / 10000\n",
      "Processed 2080 / 10000\n",
      "Processed 2112 / 10000\n",
      "Processed 2144 / 10000\n",
      "Processed 2176 / 10000\n",
      "Processed 2208 / 10000\n",
      "Processed 2240 / 10000\n",
      "Processed 2272 / 10000\n",
      "Processed 2304 / 10000\n",
      "Processed 2336 / 10000\n",
      "Processed 2368 / 10000\n",
      "Processed 2400 / 10000\n",
      "Processed 2432 / 10000\n",
      "Processed 2464 / 10000\n",
      "Processed 2496 / 10000\n",
      "Processed 2528 / 10000\n",
      "Processed 2560 / 10000\n",
      "Processed 2592 / 10000\n",
      "Processed 2624 / 10000\n",
      "Processed 2656 / 10000\n",
      "Processed 2688 / 10000\n",
      "Processed 2720 / 10000\n",
      "Processed 2752 / 10000\n",
      "Processed 2784 / 10000\n",
      "Processed 2816 / 10000\n",
      "Processed 2848 / 10000\n",
      "Processed 2880 / 10000\n",
      "Processed 2912 / 10000\n",
      "Processed 2944 / 10000\n",
      "Processed 2976 / 10000\n",
      "Processed 3008 / 10000\n",
      "Processed 3040 / 10000\n",
      "Processed 3072 / 10000\n",
      "Processed 3104 / 10000\n",
      "Processed 3136 / 10000\n",
      "Processed 3168 / 10000\n",
      "Processed 3200 / 10000\n",
      "Processed 3232 / 10000\n",
      "Processed 3264 / 10000\n",
      "Processed 3296 / 10000\n",
      "Processed 3328 / 10000\n",
      "Processed 3360 / 10000\n",
      "Processed 3392 / 10000\n",
      "Processed 3424 / 10000\n",
      "Processed 3456 / 10000\n",
      "Processed 3488 / 10000\n",
      "Processed 3520 / 10000\n",
      "Processed 3552 / 10000\n",
      "Processed 3584 / 10000\n",
      "Processed 3616 / 10000\n",
      "Processed 3648 / 10000\n",
      "Processed 3680 / 10000\n",
      "Processed 3712 / 10000\n",
      "Processed 3744 / 10000\n",
      "Processed 3776 / 10000\n",
      "Processed 3808 / 10000\n",
      "Processed 3840 / 10000\n",
      "Processed 3872 / 10000\n",
      "Processed 3904 / 10000\n",
      "Processed 3936 / 10000\n",
      "Processed 3968 / 10000\n",
      "Processed 4000 / 10000\n",
      "Processed 4032 / 10000\n",
      "Processed 4064 / 10000\n",
      "Processed 4096 / 10000\n",
      "Processed 4128 / 10000\n",
      "Processed 4160 / 10000\n",
      "Processed 4192 / 10000\n",
      "Processed 4224 / 10000\n",
      "Processed 4256 / 10000\n",
      "Processed 4288 / 10000\n",
      "Processed 4320 / 10000\n",
      "Processed 4352 / 10000\n",
      "Processed 4384 / 10000\n",
      "Processed 4416 / 10000\n",
      "Processed 4448 / 10000\n",
      "Processed 4480 / 10000\n",
      "Processed 4512 / 10000\n",
      "Processed 4544 / 10000\n",
      "Processed 4576 / 10000\n",
      "Processed 4608 / 10000\n",
      "Processed 4640 / 10000\n",
      "Processed 4672 / 10000\n",
      "Processed 4704 / 10000\n",
      "Processed 4736 / 10000\n",
      "Processed 4768 / 10000\n",
      "Processed 4800 / 10000\n",
      "Processed 4832 / 10000\n",
      "Processed 4864 / 10000\n",
      "Processed 4896 / 10000\n",
      "Processed 4928 / 10000\n",
      "Processed 4960 / 10000\n",
      "Processed 4992 / 10000\n",
      "Processed 5024 / 10000\n",
      "Processed 5056 / 10000\n",
      "Processed 5088 / 10000\n",
      "Processed 5120 / 10000\n",
      "Processed 5152 / 10000\n",
      "Processed 5184 / 10000\n",
      "Processed 5216 / 10000\n",
      "Processed 5248 / 10000\n",
      "Processed 5280 / 10000\n",
      "Processed 5312 / 10000\n",
      "Processed 5344 / 10000\n",
      "Processed 5376 / 10000\n",
      "Processed 5408 / 10000\n",
      "Processed 5440 / 10000\n",
      "Processed 5472 / 10000\n",
      "Processed 5504 / 10000\n",
      "Processed 5536 / 10000\n",
      "Processed 5568 / 10000\n",
      "Processed 5600 / 10000\n",
      "Processed 5632 / 10000\n",
      "Processed 5664 / 10000\n",
      "Processed 5696 / 10000\n",
      "Processed 5728 / 10000\n",
      "Processed 5760 / 10000\n",
      "Processed 5792 / 10000\n",
      "Processed 5824 / 10000\n",
      "Processed 5856 / 10000\n",
      "Processed 5888 / 10000\n",
      "Processed 5920 / 10000\n",
      "Processed 5952 / 10000\n",
      "Processed 5984 / 10000\n",
      "Processed 6016 / 10000\n",
      "Processed 6048 / 10000\n",
      "Processed 6080 / 10000\n",
      "Processed 6112 / 10000\n",
      "Processed 6144 / 10000\n",
      "Processed 6176 / 10000\n",
      "Processed 6208 / 10000\n",
      "Processed 6240 / 10000\n",
      "Processed 6272 / 10000\n",
      "Processed 6304 / 10000\n",
      "Processed 6336 / 10000\n",
      "Processed 6368 / 10000\n",
      "Processed 6400 / 10000\n",
      "Processed 6432 / 10000\n",
      "Processed 6464 / 10000\n",
      "Processed 6496 / 10000\n",
      "Processed 6528 / 10000\n",
      "Processed 6560 / 10000\n",
      "Processed 6592 / 10000\n",
      "Processed 6624 / 10000\n",
      "Processed 6656 / 10000\n",
      "Processed 6688 / 10000\n",
      "Processed 6720 / 10000\n",
      "Processed 6752 / 10000\n",
      "Processed 6784 / 10000\n",
      "Processed 6816 / 10000\n",
      "Processed 6848 / 10000\n",
      "Processed 6880 / 10000\n",
      "Processed 6912 / 10000\n",
      "Processed 6944 / 10000\n",
      "Processed 6976 / 10000\n",
      "Processed 7008 / 10000\n",
      "Processed 7040 / 10000\n",
      "Processed 7072 / 10000\n",
      "Processed 7104 / 10000\n",
      "Processed 7136 / 10000\n",
      "Processed 7168 / 10000\n",
      "Processed 7200 / 10000\n",
      "Processed 7232 / 10000\n",
      "Processed 7264 / 10000\n",
      "Processed 7296 / 10000\n",
      "Processed 7328 / 10000\n",
      "Processed 7360 / 10000\n",
      "Processed 7392 / 10000\n",
      "Processed 7424 / 10000\n",
      "Processed 7456 / 10000\n",
      "Processed 7488 / 10000\n",
      "Processed 7520 / 10000\n",
      "Processed 7552 / 10000\n",
      "Processed 7584 / 10000\n",
      "Processed 7616 / 10000\n",
      "Processed 7648 / 10000\n",
      "Processed 7680 / 10000\n",
      "Processed 7712 / 10000\n",
      "Processed 7744 / 10000\n",
      "Processed 7776 / 10000\n",
      "Processed 7808 / 10000\n",
      "Processed 7840 / 10000\n",
      "Processed 7872 / 10000\n",
      "Processed 7904 / 10000\n",
      "Processed 7936 / 10000\n",
      "Processed 7968 / 10000\n",
      "Processed 8000 / 10000\n",
      "Processed 8032 / 10000\n",
      "Processed 8064 / 10000\n",
      "Processed 8096 / 10000\n",
      "Processed 8128 / 10000\n",
      "Processed 8160 / 10000\n",
      "Processed 8192 / 10000\n",
      "Processed 8224 / 10000\n",
      "Processed 8256 / 10000\n",
      "Processed 8288 / 10000\n",
      "Processed 8320 / 10000\n",
      "Processed 8352 / 10000\n",
      "Processed 8384 / 10000\n",
      "Processed 8416 / 10000\n",
      "Processed 8448 / 10000\n",
      "Processed 8480 / 10000\n",
      "Processed 8512 / 10000\n",
      "Processed 8544 / 10000\n",
      "Processed 8576 / 10000\n",
      "Processed 8608 / 10000\n",
      "Processed 8640 / 10000\n",
      "Processed 8672 / 10000\n",
      "Processed 8704 / 10000\n",
      "Processed 8736 / 10000\n",
      "Processed 8768 / 10000\n",
      "Processed 8800 / 10000\n",
      "Processed 8832 / 10000\n",
      "Processed 8864 / 10000\n",
      "Processed 8896 / 10000\n",
      "Processed 8928 / 10000\n",
      "Processed 8960 / 10000\n",
      "Processed 8992 / 10000\n",
      "Processed 9024 / 10000\n",
      "Processed 9056 / 10000\n",
      "Processed 9088 / 10000\n",
      "Processed 9120 / 10000\n",
      "Processed 9152 / 10000\n",
      "Processed 9184 / 10000\n",
      "Processed 9216 / 10000\n",
      "Processed 9248 / 10000\n",
      "Processed 9280 / 10000\n",
      "Processed 9312 / 10000\n",
      "Processed 9344 / 10000\n",
      "Processed 9376 / 10000\n",
      "Processed 9408 / 10000\n",
      "Processed 9440 / 10000\n",
      "Processed 9472 / 10000\n",
      "Processed 9504 / 10000\n",
      "Processed 9536 / 10000\n",
      "Processed 9568 / 10000\n",
      "Processed 9600 / 10000\n",
      "Processed 9632 / 10000\n",
      "Processed 9664 / 10000\n",
      "Processed 9696 / 10000\n",
      "Processed 9728 / 10000\n",
      "Processed 9760 / 10000\n",
      "Processed 9792 / 10000\n",
      "Processed 9824 / 10000\n",
      "Processed 9856 / 10000\n",
      "Processed 9888 / 10000\n",
      "Processed 9920 / 10000\n",
      "Processed 9952 / 10000\n",
      "Processed 9984 / 10000\n",
      "Processed 10000 / 10000\n"
     ]
    }
   ],
   "source": [
    "# candidate_labels = [\"sports\", \"politics\", \"business\", \"science\", \"climate\", \"weather\", \"entertainment\", \"travel\", \"crime\", \"war\", \"technology\", \"health\", \"education\", \"accidents\"]\n",
    "\n",
    "# # Batch function\n",
    "# def classify_batch(texts, labels):\n",
    "#     results = classifier(texts, labels)\n",
    "#     # Results is a list of dicts when you pass multiple texts\n",
    "#     return [r[\"labels\"][0] for r in results]\n",
    "\n",
    "# # Batch process DataFrame\n",
    "# batch_size = 32   # increase to 64/128 if you have GPU\n",
    "# predictions = []\n",
    "\n",
    "# for i in range(0, len(df_pred), batch_size):\n",
    "#     batch_texts = df_pred[\"text\"].iloc[i:i+batch_size].tolist()\n",
    "#     preds = classify_batch(batch_texts, candidate_labels)\n",
    "#     predictions.extend(preds)\n",
    "    \n",
    "#     # (Optional) progress\n",
    "#     print(f\"Processed {i+len(batch_texts)} / {len(df_pred)}\")\n",
    "\n",
    "# # Add predictions back\n",
    "# df_pred[\"predicted_label\"] = predictions\n",
    "\n",
    "\n",
    "# # if (i // batch_size) % 100 == 0:  # every 100 batches\n",
    "# #     df_exp.iloc[:i+batch_size].to_csv(\"dataset/prediction.csv\", index=False)\n"
   ]
  },
  {
   "cell_type": "code",
   "execution_count": null,
   "id": "17f18e18",
   "metadata": {},
   "outputs": [],
   "source": [
    "# df_pred.to_csv(\"dataset/prediction.csv\", index=False)"
   ]
  },
  {
   "cell_type": "markdown",
   "id": "6b9b4286",
   "metadata": {},
   "source": []
  },
  {
   "cell_type": "code",
   "execution_count": null,
   "id": "237178e3",
   "metadata": {},
   "outputs": [],
   "source": []
  },
  {
   "cell_type": "markdown",
   "id": "4538834a",
   "metadata": {},
   "source": [
    "#### Labels Selected for Prediction \n",
    "\n",
    "* \"sports\" \n",
    "* \"politics\"\n",
    "* \"business\" \n",
    "* \"science\" \n",
    "* \"climate\" \n",
    "* \"weather\" \n",
    "* \"entertainment\"\n",
    "* \"travel\"\n",
    "* \"crime\"\n",
    "* \"war\"\n",
    "* \"technology\"\n",
    "* \"health\"\n",
    "* \"education\"\n",
    "* \"accidents\"\n"
   ]
  },
  {
   "cell_type": "code",
   "execution_count": 18,
   "id": "82106528",
   "metadata": {},
   "outputs": [],
   "source": [
    "df_preds = pd.read_csv('dataset/prediction.csv')\n",
    "# df_preds.head()"
   ]
  },
  {
   "cell_type": "code",
   "execution_count": 19,
   "id": "1944cd04",
   "metadata": {},
   "outputs": [],
   "source": [
    "# df_preds.head(10)"
   ]
  },
  {
   "cell_type": "code",
   "execution_count": 20,
   "id": "65af4a00",
   "metadata": {},
   "outputs": [
    {
     "data": {
      "text/plain": [
       "predicted_label\n",
       "politics         2085\n",
       "climate          2043\n",
       "sports           1027\n",
       "entertainment     866\n",
       "health            649\n",
       "travel            598\n",
       "war               566\n",
       "weather           542\n",
       "crime             533\n",
       "accidents         522\n",
       "business          314\n",
       "education         114\n",
       "technology         92\n",
       "science            49\n",
       "Name: count, dtype: int64"
      ]
     },
     "execution_count": 20,
     "metadata": {},
     "output_type": "execute_result"
    }
   ],
   "source": [
    "df_preds.predicted_label.value_counts()"
   ]
  },
  {
   "cell_type": "code",
   "execution_count": null,
   "id": "35f8a2ec",
   "metadata": {},
   "outputs": [],
   "source": []
  },
  {
   "cell_type": "code",
   "execution_count": 21,
   "id": "363845fa",
   "metadata": {},
   "outputs": [
    {
     "data": {
      "text/html": [
       "<div>\n",
       "<style scoped>\n",
       "    .dataframe tbody tr th:only-of-type {\n",
       "        vertical-align: middle;\n",
       "    }\n",
       "\n",
       "    .dataframe tbody tr th {\n",
       "        vertical-align: top;\n",
       "    }\n",
       "\n",
       "    .dataframe thead th {\n",
       "        text-align: right;\n",
       "    }\n",
       "</style>\n",
       "<table border=\"1\" class=\"dataframe\">\n",
       "  <thead>\n",
       "    <tr style=\"text-align: right;\">\n",
       "      <th></th>\n",
       "      <th>text</th>\n",
       "      <th>countries</th>\n",
       "      <th>nationalities</th>\n",
       "      <th>cities</th>\n",
       "    </tr>\n",
       "  </thead>\n",
       "  <tbody>\n",
       "    <tr>\n",
       "      <th>0</th>\n",
       "      <td>Ukraine: Angry Zelensky vows to punish Russian...</td>\n",
       "      <td>Ukraine</td>\n",
       "      <td>Ukrainian</td>\n",
       "      <td>NaN</td>\n",
       "    </tr>\n",
       "    <tr>\n",
       "      <th>1</th>\n",
       "      <td>Ukraine: Angry Zelensky vows to punish Russian...</td>\n",
       "      <td>NaN</td>\n",
       "      <td>Russian</td>\n",
       "      <td>NaN</td>\n",
       "    </tr>\n",
       "  </tbody>\n",
       "</table>\n",
       "</div>"
      ],
      "text/plain": [
       "                                                text countries nationalities  \\\n",
       "0  Ukraine: Angry Zelensky vows to punish Russian...   Ukraine     Ukrainian   \n",
       "1  Ukraine: Angry Zelensky vows to punish Russian...       NaN       Russian   \n",
       "\n",
       "  cities  \n",
       "0    NaN  \n",
       "1    NaN  "
      ]
     },
     "execution_count": 21,
     "metadata": {},
     "output_type": "execute_result"
    }
   ],
   "source": [
    "df_pred1 = pd.read_csv('dataset/new_data.csv')\n",
    "df_pred1.head(2)"
   ]
  },
  {
   "cell_type": "code",
   "execution_count": 22,
   "id": "8956af15",
   "metadata": {},
   "outputs": [
    {
     "data": {
      "text/plain": [
       "nationalities\n",
       "Russian    943\n",
       "British    597\n",
       "Israeli    425\n",
       "Tory       395\n",
       "Name: count, dtype: int64"
      ]
     },
     "execution_count": 22,
     "metadata": {},
     "output_type": "execute_result"
    }
   ],
   "source": [
    "df_pred1.nationalities = df_pred1.nationalities.str.rstrip('s')\n",
    "df_pred1.nationalities.value_counts()[:4]"
   ]
  },
  {
   "cell_type": "code",
   "execution_count": 23,
   "id": "5f2619e1",
   "metadata": {},
   "outputs": [],
   "source": [
    "### merge non-duplicated text values with newly predicted categories for larger datset\n",
    "\n",
    "df_new_pred = df_pred1.merge(df_preds,\n",
    "                             on = 'text',\n",
    "                             how = 'left')"
   ]
  },
  {
   "cell_type": "code",
   "execution_count": 24,
   "id": "4cc3da17",
   "metadata": {},
   "outputs": [],
   "source": [
    "df_new_pred = df_new_pred.dropna(subset='predicted_label')"
   ]
  },
  {
   "cell_type": "code",
   "execution_count": 25,
   "id": "2755ef98",
   "metadata": {},
   "outputs": [],
   "source": [
    "# for i, row in df_preds.iterrows():\n",
    "#     for j, x_row in df_pred1.iterrows():\n",
    "#         if row[0] == x_row[0]:\n",
    "#             df_preds['nationalities'] = df_pred1['nationalities']\n",
    "#             df_preds['cities'] = df_pred1['cities']\n",
    "#             df_preds['countries'] = df_pred1['countries']\n",
    "#     # print(i, row[0])\n",
    "# # for i, row in df_preds.iterrows():\n",
    "# #     print(row[0])"
   ]
  },
  {
   "cell_type": "code",
   "execution_count": 26,
   "id": "fc9f9f8c",
   "metadata": {},
   "outputs": [
    {
     "name": "stdout",
     "output_type": "stream",
     "text": [
      "Combine dataset has 11871 rows \n",
      "Predicted value dataset has 10000 rows\n"
     ]
    }
   ],
   "source": [
    "x =  df_new_pred.shape[0]\n",
    "y = df_preds.shape[0]\n",
    "\n",
    "print(f\"Combine dataset has {x} rows \\nPredicted value dataset has {y} rows\")"
   ]
  },
  {
   "cell_type": "code",
   "execution_count": null,
   "id": "bb9c6b31",
   "metadata": {},
   "outputs": [],
   "source": []
  },
  {
   "cell_type": "code",
   "execution_count": 27,
   "id": "9f1ee2f4",
   "metadata": {},
   "outputs": [],
   "source": [
    "# capitalize all values\n",
    "df_new_pred.nationalities = df_new_pred.nationalities.str.capitalize()\n",
    "df_new_pred.cities = df_new_pred.cities.str.capitalize()\n",
    "df_new_pred.predicted_label = df_new_pred.predicted_label.str.capitalize()"
   ]
  },
  {
   "cell_type": "code",
   "execution_count": 28,
   "id": "57c801bb",
   "metadata": {},
   "outputs": [],
   "source": [
    "# Mapping of non-standard → official country names\n",
    "# country_fix = {\n",
    "#     \"UK\": \"United Kingdom\",\n",
    "#     \"USA\": \"United States\",\n",
    "#     \"UAE\": \"United Arab Emirates\",\n",
    "#     \"South Korea\": \"Korea, Republic of\",\n",
    "#     \"North Korea\": \"Korea, Democratic People's Republic of\",\n",
    "#     }\n",
    "\n",
    "# # Apply fixes\n",
    "# df_preds[\"countries\"] = df_preds[\"countries\"].replace(country_fix)"
   ]
  },
  {
   "cell_type": "code",
   "execution_count": 29,
   "id": "da18dbdd",
   "metadata": {},
   "outputs": [],
   "source": [
    "country_list = set(list(df_new_pred.countries.values))\n",
    "label_list = set(list(df_new_pred.predicted_label.values))\n",
    "city_list = set(list(df_new_pred.cities.values))\n",
    "nat_list = set(list(df_new_pred.nationalities.values))"
   ]
  },
  {
   "cell_type": "code",
   "execution_count": 30,
   "id": "7e2304fb",
   "metadata": {},
   "outputs": [],
   "source": [
    "# n_labels = df_new_pred.predicted_label.value_counts(normalize=True).reset_index()\n",
    "# n_labels"
   ]
  },
  {
   "cell_type": "code",
   "execution_count": 31,
   "id": "c2a24928",
   "metadata": {},
   "outputs": [
    {
     "data": {
      "application/vnd.plotly.v1+json": {
       "config": {
        "plotlyServerURL": "https://plot.ly"
       },
       "data": [
        {
         "hovertemplate": "predicted_label=%{x}<br>count=%{y}<extra></extra>",
         "legendgroup": "",
         "marker": {
          "color": "#873260",
          "pattern": {
           "shape": ""
          }
         },
         "name": "",
         "orientation": "v",
         "showlegend": false,
         "textposition": "auto",
         "type": "bar",
         "x": [
          "Politics",
          "Climate",
          "Sports",
          "Entertainment",
          "War",
          "Travel",
          "Health",
          "Weather",
          "Crime",
          "Accidents",
          "Business",
          "Education",
          "Technology",
          "Science"
         ],
         "xaxis": "x",
         "y": {
          "bdata": "hQl8CU4F2QNlA9gCqwJpAkkCRgJKAXcAZQAxAA==",
          "dtype": "i2"
         },
         "yaxis": "y"
        }
       ],
       "layout": {
        "barmode": "relative",
        "legend": {
         "tracegroupgap": 0
        },
        "margin": {
         "t": 60
        },
        "template": {
         "data": {
          "bar": [
           {
            "error_x": {
             "color": "#2a3f5f"
            },
            "error_y": {
             "color": "#2a3f5f"
            },
            "marker": {
             "line": {
              "color": "#E5ECF6",
              "width": 0.5
             },
             "pattern": {
              "fillmode": "overlay",
              "size": 10,
              "solidity": 0.2
             }
            },
            "type": "bar"
           }
          ],
          "barpolar": [
           {
            "marker": {
             "line": {
              "color": "#E5ECF6",
              "width": 0.5
             },
             "pattern": {
              "fillmode": "overlay",
              "size": 10,
              "solidity": 0.2
             }
            },
            "type": "barpolar"
           }
          ],
          "carpet": [
           {
            "aaxis": {
             "endlinecolor": "#2a3f5f",
             "gridcolor": "white",
             "linecolor": "white",
             "minorgridcolor": "white",
             "startlinecolor": "#2a3f5f"
            },
            "baxis": {
             "endlinecolor": "#2a3f5f",
             "gridcolor": "white",
             "linecolor": "white",
             "minorgridcolor": "white",
             "startlinecolor": "#2a3f5f"
            },
            "type": "carpet"
           }
          ],
          "choropleth": [
           {
            "colorbar": {
             "outlinewidth": 0,
             "ticks": ""
            },
            "type": "choropleth"
           }
          ],
          "contour": [
           {
            "colorbar": {
             "outlinewidth": 0,
             "ticks": ""
            },
            "colorscale": [
             [
              0,
              "#0d0887"
             ],
             [
              0.1111111111111111,
              "#46039f"
             ],
             [
              0.2222222222222222,
              "#7201a8"
             ],
             [
              0.3333333333333333,
              "#9c179e"
             ],
             [
              0.4444444444444444,
              "#bd3786"
             ],
             [
              0.5555555555555556,
              "#d8576b"
             ],
             [
              0.6666666666666666,
              "#ed7953"
             ],
             [
              0.7777777777777778,
              "#fb9f3a"
             ],
             [
              0.8888888888888888,
              "#fdca26"
             ],
             [
              1,
              "#f0f921"
             ]
            ],
            "type": "contour"
           }
          ],
          "contourcarpet": [
           {
            "colorbar": {
             "outlinewidth": 0,
             "ticks": ""
            },
            "type": "contourcarpet"
           }
          ],
          "heatmap": [
           {
            "colorbar": {
             "outlinewidth": 0,
             "ticks": ""
            },
            "colorscale": [
             [
              0,
              "#0d0887"
             ],
             [
              0.1111111111111111,
              "#46039f"
             ],
             [
              0.2222222222222222,
              "#7201a8"
             ],
             [
              0.3333333333333333,
              "#9c179e"
             ],
             [
              0.4444444444444444,
              "#bd3786"
             ],
             [
              0.5555555555555556,
              "#d8576b"
             ],
             [
              0.6666666666666666,
              "#ed7953"
             ],
             [
              0.7777777777777778,
              "#fb9f3a"
             ],
             [
              0.8888888888888888,
              "#fdca26"
             ],
             [
              1,
              "#f0f921"
             ]
            ],
            "type": "heatmap"
           }
          ],
          "histogram": [
           {
            "marker": {
             "pattern": {
              "fillmode": "overlay",
              "size": 10,
              "solidity": 0.2
             }
            },
            "type": "histogram"
           }
          ],
          "histogram2d": [
           {
            "colorbar": {
             "outlinewidth": 0,
             "ticks": ""
            },
            "colorscale": [
             [
              0,
              "#0d0887"
             ],
             [
              0.1111111111111111,
              "#46039f"
             ],
             [
              0.2222222222222222,
              "#7201a8"
             ],
             [
              0.3333333333333333,
              "#9c179e"
             ],
             [
              0.4444444444444444,
              "#bd3786"
             ],
             [
              0.5555555555555556,
              "#d8576b"
             ],
             [
              0.6666666666666666,
              "#ed7953"
             ],
             [
              0.7777777777777778,
              "#fb9f3a"
             ],
             [
              0.8888888888888888,
              "#fdca26"
             ],
             [
              1,
              "#f0f921"
             ]
            ],
            "type": "histogram2d"
           }
          ],
          "histogram2dcontour": [
           {
            "colorbar": {
             "outlinewidth": 0,
             "ticks": ""
            },
            "colorscale": [
             [
              0,
              "#0d0887"
             ],
             [
              0.1111111111111111,
              "#46039f"
             ],
             [
              0.2222222222222222,
              "#7201a8"
             ],
             [
              0.3333333333333333,
              "#9c179e"
             ],
             [
              0.4444444444444444,
              "#bd3786"
             ],
             [
              0.5555555555555556,
              "#d8576b"
             ],
             [
              0.6666666666666666,
              "#ed7953"
             ],
             [
              0.7777777777777778,
              "#fb9f3a"
             ],
             [
              0.8888888888888888,
              "#fdca26"
             ],
             [
              1,
              "#f0f921"
             ]
            ],
            "type": "histogram2dcontour"
           }
          ],
          "mesh3d": [
           {
            "colorbar": {
             "outlinewidth": 0,
             "ticks": ""
            },
            "type": "mesh3d"
           }
          ],
          "parcoords": [
           {
            "line": {
             "colorbar": {
              "outlinewidth": 0,
              "ticks": ""
             }
            },
            "type": "parcoords"
           }
          ],
          "pie": [
           {
            "automargin": true,
            "type": "pie"
           }
          ],
          "scatter": [
           {
            "fillpattern": {
             "fillmode": "overlay",
             "size": 10,
             "solidity": 0.2
            },
            "type": "scatter"
           }
          ],
          "scatter3d": [
           {
            "line": {
             "colorbar": {
              "outlinewidth": 0,
              "ticks": ""
             }
            },
            "marker": {
             "colorbar": {
              "outlinewidth": 0,
              "ticks": ""
             }
            },
            "type": "scatter3d"
           }
          ],
          "scattercarpet": [
           {
            "marker": {
             "colorbar": {
              "outlinewidth": 0,
              "ticks": ""
             }
            },
            "type": "scattercarpet"
           }
          ],
          "scattergeo": [
           {
            "marker": {
             "colorbar": {
              "outlinewidth": 0,
              "ticks": ""
             }
            },
            "type": "scattergeo"
           }
          ],
          "scattergl": [
           {
            "marker": {
             "colorbar": {
              "outlinewidth": 0,
              "ticks": ""
             }
            },
            "type": "scattergl"
           }
          ],
          "scattermap": [
           {
            "marker": {
             "colorbar": {
              "outlinewidth": 0,
              "ticks": ""
             }
            },
            "type": "scattermap"
           }
          ],
          "scattermapbox": [
           {
            "marker": {
             "colorbar": {
              "outlinewidth": 0,
              "ticks": ""
             }
            },
            "type": "scattermapbox"
           }
          ],
          "scatterpolar": [
           {
            "marker": {
             "colorbar": {
              "outlinewidth": 0,
              "ticks": ""
             }
            },
            "type": "scatterpolar"
           }
          ],
          "scatterpolargl": [
           {
            "marker": {
             "colorbar": {
              "outlinewidth": 0,
              "ticks": ""
             }
            },
            "type": "scatterpolargl"
           }
          ],
          "scatterternary": [
           {
            "marker": {
             "colorbar": {
              "outlinewidth": 0,
              "ticks": ""
             }
            },
            "type": "scatterternary"
           }
          ],
          "surface": [
           {
            "colorbar": {
             "outlinewidth": 0,
             "ticks": ""
            },
            "colorscale": [
             [
              0,
              "#0d0887"
             ],
             [
              0.1111111111111111,
              "#46039f"
             ],
             [
              0.2222222222222222,
              "#7201a8"
             ],
             [
              0.3333333333333333,
              "#9c179e"
             ],
             [
              0.4444444444444444,
              "#bd3786"
             ],
             [
              0.5555555555555556,
              "#d8576b"
             ],
             [
              0.6666666666666666,
              "#ed7953"
             ],
             [
              0.7777777777777778,
              "#fb9f3a"
             ],
             [
              0.8888888888888888,
              "#fdca26"
             ],
             [
              1,
              "#f0f921"
             ]
            ],
            "type": "surface"
           }
          ],
          "table": [
           {
            "cells": {
             "fill": {
              "color": "#EBF0F8"
             },
             "line": {
              "color": "white"
             }
            },
            "header": {
             "fill": {
              "color": "#C8D4E3"
             },
             "line": {
              "color": "white"
             }
            },
            "type": "table"
           }
          ]
         },
         "layout": {
          "annotationdefaults": {
           "arrowcolor": "#2a3f5f",
           "arrowhead": 0,
           "arrowwidth": 1
          },
          "autotypenumbers": "strict",
          "coloraxis": {
           "colorbar": {
            "outlinewidth": 0,
            "ticks": ""
           }
          },
          "colorscale": {
           "diverging": [
            [
             0,
             "#8e0152"
            ],
            [
             0.1,
             "#c51b7d"
            ],
            [
             0.2,
             "#de77ae"
            ],
            [
             0.3,
             "#f1b6da"
            ],
            [
             0.4,
             "#fde0ef"
            ],
            [
             0.5,
             "#f7f7f7"
            ],
            [
             0.6,
             "#e6f5d0"
            ],
            [
             0.7,
             "#b8e186"
            ],
            [
             0.8,
             "#7fbc41"
            ],
            [
             0.9,
             "#4d9221"
            ],
            [
             1,
             "#276419"
            ]
           ],
           "sequential": [
            [
             0,
             "#0d0887"
            ],
            [
             0.1111111111111111,
             "#46039f"
            ],
            [
             0.2222222222222222,
             "#7201a8"
            ],
            [
             0.3333333333333333,
             "#9c179e"
            ],
            [
             0.4444444444444444,
             "#bd3786"
            ],
            [
             0.5555555555555556,
             "#d8576b"
            ],
            [
             0.6666666666666666,
             "#ed7953"
            ],
            [
             0.7777777777777778,
             "#fb9f3a"
            ],
            [
             0.8888888888888888,
             "#fdca26"
            ],
            [
             1,
             "#f0f921"
            ]
           ],
           "sequentialminus": [
            [
             0,
             "#0d0887"
            ],
            [
             0.1111111111111111,
             "#46039f"
            ],
            [
             0.2222222222222222,
             "#7201a8"
            ],
            [
             0.3333333333333333,
             "#9c179e"
            ],
            [
             0.4444444444444444,
             "#bd3786"
            ],
            [
             0.5555555555555556,
             "#d8576b"
            ],
            [
             0.6666666666666666,
             "#ed7953"
            ],
            [
             0.7777777777777778,
             "#fb9f3a"
            ],
            [
             0.8888888888888888,
             "#fdca26"
            ],
            [
             1,
             "#f0f921"
            ]
           ]
          },
          "colorway": [
           "#636efa",
           "#EF553B",
           "#00cc96",
           "#ab63fa",
           "#FFA15A",
           "#19d3f3",
           "#FF6692",
           "#B6E880",
           "#FF97FF",
           "#FECB52"
          ],
          "font": {
           "color": "#2a3f5f"
          },
          "geo": {
           "bgcolor": "white",
           "lakecolor": "white",
           "landcolor": "#E5ECF6",
           "showlakes": true,
           "showland": true,
           "subunitcolor": "white"
          },
          "hoverlabel": {
           "align": "left"
          },
          "hovermode": "closest",
          "mapbox": {
           "style": "light"
          },
          "paper_bgcolor": "white",
          "plot_bgcolor": "#E5ECF6",
          "polar": {
           "angularaxis": {
            "gridcolor": "white",
            "linecolor": "white",
            "ticks": ""
           },
           "bgcolor": "#E5ECF6",
           "radialaxis": {
            "gridcolor": "white",
            "linecolor": "white",
            "ticks": ""
           }
          },
          "scene": {
           "xaxis": {
            "backgroundcolor": "#E5ECF6",
            "gridcolor": "white",
            "gridwidth": 2,
            "linecolor": "white",
            "showbackground": true,
            "ticks": "",
            "zerolinecolor": "white"
           },
           "yaxis": {
            "backgroundcolor": "#E5ECF6",
            "gridcolor": "white",
            "gridwidth": 2,
            "linecolor": "white",
            "showbackground": true,
            "ticks": "",
            "zerolinecolor": "white"
           },
           "zaxis": {
            "backgroundcolor": "#E5ECF6",
            "gridcolor": "white",
            "gridwidth": 2,
            "linecolor": "white",
            "showbackground": true,
            "ticks": "",
            "zerolinecolor": "white"
           }
          },
          "shapedefaults": {
           "line": {
            "color": "#2a3f5f"
           }
          },
          "ternary": {
           "aaxis": {
            "gridcolor": "white",
            "linecolor": "white",
            "ticks": ""
           },
           "baxis": {
            "gridcolor": "white",
            "linecolor": "white",
            "ticks": ""
           },
           "bgcolor": "#E5ECF6",
           "caxis": {
            "gridcolor": "white",
            "linecolor": "white",
            "ticks": ""
           }
          },
          "title": {
           "x": 0.05
          },
          "xaxis": {
           "automargin": true,
           "gridcolor": "white",
           "linecolor": "white",
           "ticks": "",
           "title": {
            "standoff": 15
           },
           "zerolinecolor": "white",
           "zerolinewidth": 2
          },
          "yaxis": {
           "automargin": true,
           "gridcolor": "white",
           "linecolor": "white",
           "ticks": "",
           "title": {
            "standoff": 15
           },
           "zerolinecolor": "white",
           "zerolinewidth": 2
          }
         }
        },
        "title": {
         "text": " "
        },
        "xaxis": {
         "anchor": "y",
         "domain": [
          0,
          1
         ],
         "title": {
          "text": "\n Category Labels"
         }
        },
        "yaxis": {
         "anchor": "x",
         "domain": [
          0,
          1
         ],
         "title": {
          "text": "Number of Occurence"
         }
        }
       }
      }
     },
     "metadata": {},
     "output_type": "display_data"
    }
   ],
   "source": [
    "n_labels = df_new_pred.predicted_label.value_counts().reset_index()\n",
    "\n",
    "fig = px.bar(n_labels, x=\"predicted_label\", y=\"count\") \n",
    "\n",
    "    \n",
    "fig.update_layout(\n",
    "    title_text=\" \",\n",
    "    xaxis_title=\"\\n Category Labels\",\n",
    "    yaxis_title=\"Number of Occurence\",\n",
    "    # yaxis_range=[0,10]\n",
    ")\n",
    "\n",
    "fig.update_traces(marker_color='#873260')\n",
    "\n",
    "fig.show()"
   ]
  },
  {
   "cell_type": "code",
   "execution_count": null,
   "id": "4607916d",
   "metadata": {},
   "outputs": [],
   "source": []
  },
  {
   "cell_type": "markdown",
   "id": "cc5caa93",
   "metadata": {},
   "source": [
    "### What news was cognizance with a particular country"
   ]
  },
  {
   "cell_type": "code",
   "execution_count": 32,
   "id": "19441f98",
   "metadata": {},
   "outputs": [
    {
     "data": {
      "application/vnd.plotly.v1+json": {
       "config": {
        "plotlyServerURL": "https://plot.ly"
       },
       "data": [
        {
         "hovertemplate": "Category=%{x}<br>Count=%{y}<extra></extra>",
         "legendgroup": "",
         "marker": {
          "color": "#873260",
          "pattern": {
           "shape": ""
          }
         },
         "name": "",
         "orientation": "v",
         "showlegend": false,
         "textposition": "auto",
         "type": "bar",
         "x": [
          "Climate",
          "Politics",
          "Sports",
          "War",
          "Travel",
          "Entertainment",
          "Crime",
          "Weather"
         ],
         "xaxis": "x",
         "y": {
          "bdata": "CQkIBAMCAgE=",
          "dtype": "i1"
         },
         "yaxis": "y"
        }
       ],
       "layout": {
        "barmode": "relative",
        "legend": {
         "tracegroupgap": 0
        },
        "margin": {
         "t": 60
        },
        "template": {
         "data": {
          "bar": [
           {
            "error_x": {
             "color": "#2a3f5f"
            },
            "error_y": {
             "color": "#2a3f5f"
            },
            "marker": {
             "line": {
              "color": "#E5ECF6",
              "width": 0.5
             },
             "pattern": {
              "fillmode": "overlay",
              "size": 10,
              "solidity": 0.2
             }
            },
            "type": "bar"
           }
          ],
          "barpolar": [
           {
            "marker": {
             "line": {
              "color": "#E5ECF6",
              "width": 0.5
             },
             "pattern": {
              "fillmode": "overlay",
              "size": 10,
              "solidity": 0.2
             }
            },
            "type": "barpolar"
           }
          ],
          "carpet": [
           {
            "aaxis": {
             "endlinecolor": "#2a3f5f",
             "gridcolor": "white",
             "linecolor": "white",
             "minorgridcolor": "white",
             "startlinecolor": "#2a3f5f"
            },
            "baxis": {
             "endlinecolor": "#2a3f5f",
             "gridcolor": "white",
             "linecolor": "white",
             "minorgridcolor": "white",
             "startlinecolor": "#2a3f5f"
            },
            "type": "carpet"
           }
          ],
          "choropleth": [
           {
            "colorbar": {
             "outlinewidth": 0,
             "ticks": ""
            },
            "type": "choropleth"
           }
          ],
          "contour": [
           {
            "colorbar": {
             "outlinewidth": 0,
             "ticks": ""
            },
            "colorscale": [
             [
              0,
              "#0d0887"
             ],
             [
              0.1111111111111111,
              "#46039f"
             ],
             [
              0.2222222222222222,
              "#7201a8"
             ],
             [
              0.3333333333333333,
              "#9c179e"
             ],
             [
              0.4444444444444444,
              "#bd3786"
             ],
             [
              0.5555555555555556,
              "#d8576b"
             ],
             [
              0.6666666666666666,
              "#ed7953"
             ],
             [
              0.7777777777777778,
              "#fb9f3a"
             ],
             [
              0.8888888888888888,
              "#fdca26"
             ],
             [
              1,
              "#f0f921"
             ]
            ],
            "type": "contour"
           }
          ],
          "contourcarpet": [
           {
            "colorbar": {
             "outlinewidth": 0,
             "ticks": ""
            },
            "type": "contourcarpet"
           }
          ],
          "heatmap": [
           {
            "colorbar": {
             "outlinewidth": 0,
             "ticks": ""
            },
            "colorscale": [
             [
              0,
              "#0d0887"
             ],
             [
              0.1111111111111111,
              "#46039f"
             ],
             [
              0.2222222222222222,
              "#7201a8"
             ],
             [
              0.3333333333333333,
              "#9c179e"
             ],
             [
              0.4444444444444444,
              "#bd3786"
             ],
             [
              0.5555555555555556,
              "#d8576b"
             ],
             [
              0.6666666666666666,
              "#ed7953"
             ],
             [
              0.7777777777777778,
              "#fb9f3a"
             ],
             [
              0.8888888888888888,
              "#fdca26"
             ],
             [
              1,
              "#f0f921"
             ]
            ],
            "type": "heatmap"
           }
          ],
          "histogram": [
           {
            "marker": {
             "pattern": {
              "fillmode": "overlay",
              "size": 10,
              "solidity": 0.2
             }
            },
            "type": "histogram"
           }
          ],
          "histogram2d": [
           {
            "colorbar": {
             "outlinewidth": 0,
             "ticks": ""
            },
            "colorscale": [
             [
              0,
              "#0d0887"
             ],
             [
              0.1111111111111111,
              "#46039f"
             ],
             [
              0.2222222222222222,
              "#7201a8"
             ],
             [
              0.3333333333333333,
              "#9c179e"
             ],
             [
              0.4444444444444444,
              "#bd3786"
             ],
             [
              0.5555555555555556,
              "#d8576b"
             ],
             [
              0.6666666666666666,
              "#ed7953"
             ],
             [
              0.7777777777777778,
              "#fb9f3a"
             ],
             [
              0.8888888888888888,
              "#fdca26"
             ],
             [
              1,
              "#f0f921"
             ]
            ],
            "type": "histogram2d"
           }
          ],
          "histogram2dcontour": [
           {
            "colorbar": {
             "outlinewidth": 0,
             "ticks": ""
            },
            "colorscale": [
             [
              0,
              "#0d0887"
             ],
             [
              0.1111111111111111,
              "#46039f"
             ],
             [
              0.2222222222222222,
              "#7201a8"
             ],
             [
              0.3333333333333333,
              "#9c179e"
             ],
             [
              0.4444444444444444,
              "#bd3786"
             ],
             [
              0.5555555555555556,
              "#d8576b"
             ],
             [
              0.6666666666666666,
              "#ed7953"
             ],
             [
              0.7777777777777778,
              "#fb9f3a"
             ],
             [
              0.8888888888888888,
              "#fdca26"
             ],
             [
              1,
              "#f0f921"
             ]
            ],
            "type": "histogram2dcontour"
           }
          ],
          "mesh3d": [
           {
            "colorbar": {
             "outlinewidth": 0,
             "ticks": ""
            },
            "type": "mesh3d"
           }
          ],
          "parcoords": [
           {
            "line": {
             "colorbar": {
              "outlinewidth": 0,
              "ticks": ""
             }
            },
            "type": "parcoords"
           }
          ],
          "pie": [
           {
            "automargin": true,
            "type": "pie"
           }
          ],
          "scatter": [
           {
            "fillpattern": {
             "fillmode": "overlay",
             "size": 10,
             "solidity": 0.2
            },
            "type": "scatter"
           }
          ],
          "scatter3d": [
           {
            "line": {
             "colorbar": {
              "outlinewidth": 0,
              "ticks": ""
             }
            },
            "marker": {
             "colorbar": {
              "outlinewidth": 0,
              "ticks": ""
             }
            },
            "type": "scatter3d"
           }
          ],
          "scattercarpet": [
           {
            "marker": {
             "colorbar": {
              "outlinewidth": 0,
              "ticks": ""
             }
            },
            "type": "scattercarpet"
           }
          ],
          "scattergeo": [
           {
            "marker": {
             "colorbar": {
              "outlinewidth": 0,
              "ticks": ""
             }
            },
            "type": "scattergeo"
           }
          ],
          "scattergl": [
           {
            "marker": {
             "colorbar": {
              "outlinewidth": 0,
              "ticks": ""
             }
            },
            "type": "scattergl"
           }
          ],
          "scattermap": [
           {
            "marker": {
             "colorbar": {
              "outlinewidth": 0,
              "ticks": ""
             }
            },
            "type": "scattermap"
           }
          ],
          "scattermapbox": [
           {
            "marker": {
             "colorbar": {
              "outlinewidth": 0,
              "ticks": ""
             }
            },
            "type": "scattermapbox"
           }
          ],
          "scatterpolar": [
           {
            "marker": {
             "colorbar": {
              "outlinewidth": 0,
              "ticks": ""
             }
            },
            "type": "scatterpolar"
           }
          ],
          "scatterpolargl": [
           {
            "marker": {
             "colorbar": {
              "outlinewidth": 0,
              "ticks": ""
             }
            },
            "type": "scatterpolargl"
           }
          ],
          "scatterternary": [
           {
            "marker": {
             "colorbar": {
              "outlinewidth": 0,
              "ticks": ""
             }
            },
            "type": "scatterternary"
           }
          ],
          "surface": [
           {
            "colorbar": {
             "outlinewidth": 0,
             "ticks": ""
            },
            "colorscale": [
             [
              0,
              "#0d0887"
             ],
             [
              0.1111111111111111,
              "#46039f"
             ],
             [
              0.2222222222222222,
              "#7201a8"
             ],
             [
              0.3333333333333333,
              "#9c179e"
             ],
             [
              0.4444444444444444,
              "#bd3786"
             ],
             [
              0.5555555555555556,
              "#d8576b"
             ],
             [
              0.6666666666666666,
              "#ed7953"
             ],
             [
              0.7777777777777778,
              "#fb9f3a"
             ],
             [
              0.8888888888888888,
              "#fdca26"
             ],
             [
              1,
              "#f0f921"
             ]
            ],
            "type": "surface"
           }
          ],
          "table": [
           {
            "cells": {
             "fill": {
              "color": "#EBF0F8"
             },
             "line": {
              "color": "white"
             }
            },
            "header": {
             "fill": {
              "color": "#C8D4E3"
             },
             "line": {
              "color": "white"
             }
            },
            "type": "table"
           }
          ]
         },
         "layout": {
          "annotationdefaults": {
           "arrowcolor": "#2a3f5f",
           "arrowhead": 0,
           "arrowwidth": 1
          },
          "autotypenumbers": "strict",
          "coloraxis": {
           "colorbar": {
            "outlinewidth": 0,
            "ticks": ""
           }
          },
          "colorscale": {
           "diverging": [
            [
             0,
             "#8e0152"
            ],
            [
             0.1,
             "#c51b7d"
            ],
            [
             0.2,
             "#de77ae"
            ],
            [
             0.3,
             "#f1b6da"
            ],
            [
             0.4,
             "#fde0ef"
            ],
            [
             0.5,
             "#f7f7f7"
            ],
            [
             0.6,
             "#e6f5d0"
            ],
            [
             0.7,
             "#b8e186"
            ],
            [
             0.8,
             "#7fbc41"
            ],
            [
             0.9,
             "#4d9221"
            ],
            [
             1,
             "#276419"
            ]
           ],
           "sequential": [
            [
             0,
             "#0d0887"
            ],
            [
             0.1111111111111111,
             "#46039f"
            ],
            [
             0.2222222222222222,
             "#7201a8"
            ],
            [
             0.3333333333333333,
             "#9c179e"
            ],
            [
             0.4444444444444444,
             "#bd3786"
            ],
            [
             0.5555555555555556,
             "#d8576b"
            ],
            [
             0.6666666666666666,
             "#ed7953"
            ],
            [
             0.7777777777777778,
             "#fb9f3a"
            ],
            [
             0.8888888888888888,
             "#fdca26"
            ],
            [
             1,
             "#f0f921"
            ]
           ],
           "sequentialminus": [
            [
             0,
             "#0d0887"
            ],
            [
             0.1111111111111111,
             "#46039f"
            ],
            [
             0.2222222222222222,
             "#7201a8"
            ],
            [
             0.3333333333333333,
             "#9c179e"
            ],
            [
             0.4444444444444444,
             "#bd3786"
            ],
            [
             0.5555555555555556,
             "#d8576b"
            ],
            [
             0.6666666666666666,
             "#ed7953"
            ],
            [
             0.7777777777777778,
             "#fb9f3a"
            ],
            [
             0.8888888888888888,
             "#fdca26"
            ],
            [
             1,
             "#f0f921"
            ]
           ]
          },
          "colorway": [
           "#636efa",
           "#EF553B",
           "#00cc96",
           "#ab63fa",
           "#FFA15A",
           "#19d3f3",
           "#FF6692",
           "#B6E880",
           "#FF97FF",
           "#FECB52"
          ],
          "font": {
           "color": "#2a3f5f"
          },
          "geo": {
           "bgcolor": "white",
           "lakecolor": "white",
           "landcolor": "#E5ECF6",
           "showlakes": true,
           "showland": true,
           "subunitcolor": "white"
          },
          "hoverlabel": {
           "align": "left"
          },
          "hovermode": "closest",
          "mapbox": {
           "style": "light"
          },
          "paper_bgcolor": "white",
          "plot_bgcolor": "#E5ECF6",
          "polar": {
           "angularaxis": {
            "gridcolor": "white",
            "linecolor": "white",
            "ticks": ""
           },
           "bgcolor": "#E5ECF6",
           "radialaxis": {
            "gridcolor": "white",
            "linecolor": "white",
            "ticks": ""
           }
          },
          "scene": {
           "xaxis": {
            "backgroundcolor": "#E5ECF6",
            "gridcolor": "white",
            "gridwidth": 2,
            "linecolor": "white",
            "showbackground": true,
            "ticks": "",
            "zerolinecolor": "white"
           },
           "yaxis": {
            "backgroundcolor": "#E5ECF6",
            "gridcolor": "white",
            "gridwidth": 2,
            "linecolor": "white",
            "showbackground": true,
            "ticks": "",
            "zerolinecolor": "white"
           },
           "zaxis": {
            "backgroundcolor": "#E5ECF6",
            "gridcolor": "white",
            "gridwidth": 2,
            "linecolor": "white",
            "showbackground": true,
            "ticks": "",
            "zerolinecolor": "white"
           }
          },
          "shapedefaults": {
           "line": {
            "color": "#2a3f5f"
           }
          },
          "ternary": {
           "aaxis": {
            "gridcolor": "white",
            "linecolor": "white",
            "ticks": ""
           },
           "baxis": {
            "gridcolor": "white",
            "linecolor": "white",
            "ticks": ""
           },
           "bgcolor": "#E5ECF6",
           "caxis": {
            "gridcolor": "white",
            "linecolor": "white",
            "ticks": ""
           }
          },
          "title": {
           "x": 0.05
          },
          "xaxis": {
           "automargin": true,
           "gridcolor": "white",
           "linecolor": "white",
           "ticks": "",
           "title": {
            "standoff": 15
           },
           "zerolinecolor": "white",
           "zerolinewidth": 2
          },
          "yaxis": {
           "automargin": true,
           "gridcolor": "white",
           "linecolor": "white",
           "ticks": "",
           "title": {
            "standoff": 15
           },
           "zerolinecolor": "white",
           "zerolinewidth": 2
          }
         }
        },
        "title": {
         "text": " "
        },
        "xaxis": {
         "anchor": "y",
         "domain": [
          0,
          1
         ],
         "title": {
          "text": "\n News Category"
         }
        },
        "yaxis": {
         "anchor": "x",
         "domain": [
          0,
          1
         ],
         "title": {
          "text": "Number of Occurence"
         }
        }
       }
      }
     },
     "metadata": {},
     "output_type": "display_data"
    }
   ],
   "source": [
    "def country_labels(country):\n",
    "    \"\"\"\n",
    "    Plot the distribution of news categories (predicted labels)\n",
    "    associated with a given country.\n",
    "\n",
    "    Steps:\n",
    "    1. Filter df_preds for rows matching the selected country.\n",
    "    2. Count how many times each predicted label (category) appears.\n",
    "    3. Plot the results as a bar chart.\n",
    "    \"\"\"\n",
    "\n",
    "    if country in country_list:\n",
    "        # Filter rows for the selected country and count label frequencies\n",
    "        df = (\n",
    "            df_new_pred[df_new_pred['countries'] == country]['predicted_label']\n",
    "            .value_counts()  # count each category\n",
    "            .reset_index()   # convert to DataFrame\n",
    "        )\n",
    "\n",
    "        # Rename columns for clarity\n",
    "        df.columns = ['Category', 'Count']\n",
    "\n",
    "        # Create a bar chart of categories vs. counts\n",
    "        fig = px.bar(df, x=\"Category\", y=\"Count\")\n",
    "\n",
    "        # Customize chart layout\n",
    "        fig.update_layout(\n",
    "            title_text=\" \",                       # optional: empty title\n",
    "            xaxis_title=\"\\n News Category\",       # label for x-axis\n",
    "            yaxis_title=\"Number of Occurence\",    # label for y-axis\n",
    "            # yaxis_range=[0,10]                  # optional fixed y-axis range\n",
    "        )\n",
    "\n",
    "        # Customize bar color\n",
    "        fig.update_traces(marker_color='#873260')\n",
    "\n",
    "        # Show the plot\n",
    "        fig.show()\n",
    "\n",
    "    else:\n",
    "        # If the country is not found in your country_list\n",
    "        print(f\"{country} could not be sourced!\")\n",
    "\n",
    "\n",
    "# Example usage\n",
    "country_labels('Italy')\n"
   ]
  },
  {
   "cell_type": "code",
   "execution_count": null,
   "id": "0daea3e3",
   "metadata": {},
   "outputs": [],
   "source": []
  },
  {
   "cell_type": "code",
   "execution_count": 33,
   "id": "b4a1e5be",
   "metadata": {},
   "outputs": [],
   "source": [
    "# dfu = df_preds.cities.value_counts()[:20].reset_index()\n",
    "# fig = px.bar(dfu, x=\"cities\", y=\"count\") \n",
    "# fig.update_layout(\n",
    "# title_text=\"Cities Mentioned Mostly in News\",\n",
    "# xaxis_title=\"\\n Category Labels\",\n",
    "# yaxis_title=\"Number of Occurence\",\n",
    "# # yaxis_range=[0,10]\n",
    "# )\n",
    "\n",
    "# fig.update_traces(marker_color='#6D8196')\n",
    "\n",
    "# fig.show()"
   ]
  },
  {
   "cell_type": "code",
   "execution_count": null,
   "id": "5a5f751d",
   "metadata": {},
   "outputs": [],
   "source": []
  },
  {
   "cell_type": "markdown",
   "id": "623adfee",
   "metadata": {},
   "source": [
    "## What news was cognizance with a particular city?"
   ]
  },
  {
   "cell_type": "code",
   "execution_count": 34,
   "id": "782ca2e5",
   "metadata": {},
   "outputs": [
    {
     "data": {
      "application/vnd.plotly.v1+json": {
       "config": {
        "plotlyServerURL": "https://plot.ly"
       },
       "data": [
        {
         "hovertemplate": "predicted_label=%{x}<br>count=%{y}<extra></extra>",
         "legendgroup": "",
         "marker": {
          "color": "#6D8196",
          "pattern": {
           "shape": ""
          }
         },
         "name": "",
         "orientation": "v",
         "showlegend": false,
         "textposition": "auto",
         "type": "bar",
         "x": [
          "War",
          "Politics",
          "Travel",
          "Health",
          "Accidents",
          "Weather",
          "Crime",
          "Climate",
          "Business",
          "Entertainment"
         ],
         "xaxis": "x",
         "y": {
          "bdata": "QT4REBAGBgUCAQ==",
          "dtype": "i1"
         },
         "yaxis": "y"
        }
       ],
       "layout": {
        "barmode": "relative",
        "legend": {
         "tracegroupgap": 0
        },
        "margin": {
         "t": 60
        },
        "template": {
         "data": {
          "bar": [
           {
            "error_x": {
             "color": "#2a3f5f"
            },
            "error_y": {
             "color": "#2a3f5f"
            },
            "marker": {
             "line": {
              "color": "#E5ECF6",
              "width": 0.5
             },
             "pattern": {
              "fillmode": "overlay",
              "size": 10,
              "solidity": 0.2
             }
            },
            "type": "bar"
           }
          ],
          "barpolar": [
           {
            "marker": {
             "line": {
              "color": "#E5ECF6",
              "width": 0.5
             },
             "pattern": {
              "fillmode": "overlay",
              "size": 10,
              "solidity": 0.2
             }
            },
            "type": "barpolar"
           }
          ],
          "carpet": [
           {
            "aaxis": {
             "endlinecolor": "#2a3f5f",
             "gridcolor": "white",
             "linecolor": "white",
             "minorgridcolor": "white",
             "startlinecolor": "#2a3f5f"
            },
            "baxis": {
             "endlinecolor": "#2a3f5f",
             "gridcolor": "white",
             "linecolor": "white",
             "minorgridcolor": "white",
             "startlinecolor": "#2a3f5f"
            },
            "type": "carpet"
           }
          ],
          "choropleth": [
           {
            "colorbar": {
             "outlinewidth": 0,
             "ticks": ""
            },
            "type": "choropleth"
           }
          ],
          "contour": [
           {
            "colorbar": {
             "outlinewidth": 0,
             "ticks": ""
            },
            "colorscale": [
             [
              0,
              "#0d0887"
             ],
             [
              0.1111111111111111,
              "#46039f"
             ],
             [
              0.2222222222222222,
              "#7201a8"
             ],
             [
              0.3333333333333333,
              "#9c179e"
             ],
             [
              0.4444444444444444,
              "#bd3786"
             ],
             [
              0.5555555555555556,
              "#d8576b"
             ],
             [
              0.6666666666666666,
              "#ed7953"
             ],
             [
              0.7777777777777778,
              "#fb9f3a"
             ],
             [
              0.8888888888888888,
              "#fdca26"
             ],
             [
              1,
              "#f0f921"
             ]
            ],
            "type": "contour"
           }
          ],
          "contourcarpet": [
           {
            "colorbar": {
             "outlinewidth": 0,
             "ticks": ""
            },
            "type": "contourcarpet"
           }
          ],
          "heatmap": [
           {
            "colorbar": {
             "outlinewidth": 0,
             "ticks": ""
            },
            "colorscale": [
             [
              0,
              "#0d0887"
             ],
             [
              0.1111111111111111,
              "#46039f"
             ],
             [
              0.2222222222222222,
              "#7201a8"
             ],
             [
              0.3333333333333333,
              "#9c179e"
             ],
             [
              0.4444444444444444,
              "#bd3786"
             ],
             [
              0.5555555555555556,
              "#d8576b"
             ],
             [
              0.6666666666666666,
              "#ed7953"
             ],
             [
              0.7777777777777778,
              "#fb9f3a"
             ],
             [
              0.8888888888888888,
              "#fdca26"
             ],
             [
              1,
              "#f0f921"
             ]
            ],
            "type": "heatmap"
           }
          ],
          "histogram": [
           {
            "marker": {
             "pattern": {
              "fillmode": "overlay",
              "size": 10,
              "solidity": 0.2
             }
            },
            "type": "histogram"
           }
          ],
          "histogram2d": [
           {
            "colorbar": {
             "outlinewidth": 0,
             "ticks": ""
            },
            "colorscale": [
             [
              0,
              "#0d0887"
             ],
             [
              0.1111111111111111,
              "#46039f"
             ],
             [
              0.2222222222222222,
              "#7201a8"
             ],
             [
              0.3333333333333333,
              "#9c179e"
             ],
             [
              0.4444444444444444,
              "#bd3786"
             ],
             [
              0.5555555555555556,
              "#d8576b"
             ],
             [
              0.6666666666666666,
              "#ed7953"
             ],
             [
              0.7777777777777778,
              "#fb9f3a"
             ],
             [
              0.8888888888888888,
              "#fdca26"
             ],
             [
              1,
              "#f0f921"
             ]
            ],
            "type": "histogram2d"
           }
          ],
          "histogram2dcontour": [
           {
            "colorbar": {
             "outlinewidth": 0,
             "ticks": ""
            },
            "colorscale": [
             [
              0,
              "#0d0887"
             ],
             [
              0.1111111111111111,
              "#46039f"
             ],
             [
              0.2222222222222222,
              "#7201a8"
             ],
             [
              0.3333333333333333,
              "#9c179e"
             ],
             [
              0.4444444444444444,
              "#bd3786"
             ],
             [
              0.5555555555555556,
              "#d8576b"
             ],
             [
              0.6666666666666666,
              "#ed7953"
             ],
             [
              0.7777777777777778,
              "#fb9f3a"
             ],
             [
              0.8888888888888888,
              "#fdca26"
             ],
             [
              1,
              "#f0f921"
             ]
            ],
            "type": "histogram2dcontour"
           }
          ],
          "mesh3d": [
           {
            "colorbar": {
             "outlinewidth": 0,
             "ticks": ""
            },
            "type": "mesh3d"
           }
          ],
          "parcoords": [
           {
            "line": {
             "colorbar": {
              "outlinewidth": 0,
              "ticks": ""
             }
            },
            "type": "parcoords"
           }
          ],
          "pie": [
           {
            "automargin": true,
            "type": "pie"
           }
          ],
          "scatter": [
           {
            "fillpattern": {
             "fillmode": "overlay",
             "size": 10,
             "solidity": 0.2
            },
            "type": "scatter"
           }
          ],
          "scatter3d": [
           {
            "line": {
             "colorbar": {
              "outlinewidth": 0,
              "ticks": ""
             }
            },
            "marker": {
             "colorbar": {
              "outlinewidth": 0,
              "ticks": ""
             }
            },
            "type": "scatter3d"
           }
          ],
          "scattercarpet": [
           {
            "marker": {
             "colorbar": {
              "outlinewidth": 0,
              "ticks": ""
             }
            },
            "type": "scattercarpet"
           }
          ],
          "scattergeo": [
           {
            "marker": {
             "colorbar": {
              "outlinewidth": 0,
              "ticks": ""
             }
            },
            "type": "scattergeo"
           }
          ],
          "scattergl": [
           {
            "marker": {
             "colorbar": {
              "outlinewidth": 0,
              "ticks": ""
             }
            },
            "type": "scattergl"
           }
          ],
          "scattermap": [
           {
            "marker": {
             "colorbar": {
              "outlinewidth": 0,
              "ticks": ""
             }
            },
            "type": "scattermap"
           }
          ],
          "scattermapbox": [
           {
            "marker": {
             "colorbar": {
              "outlinewidth": 0,
              "ticks": ""
             }
            },
            "type": "scattermapbox"
           }
          ],
          "scatterpolar": [
           {
            "marker": {
             "colorbar": {
              "outlinewidth": 0,
              "ticks": ""
             }
            },
            "type": "scatterpolar"
           }
          ],
          "scatterpolargl": [
           {
            "marker": {
             "colorbar": {
              "outlinewidth": 0,
              "ticks": ""
             }
            },
            "type": "scatterpolargl"
           }
          ],
          "scatterternary": [
           {
            "marker": {
             "colorbar": {
              "outlinewidth": 0,
              "ticks": ""
             }
            },
            "type": "scatterternary"
           }
          ],
          "surface": [
           {
            "colorbar": {
             "outlinewidth": 0,
             "ticks": ""
            },
            "colorscale": [
             [
              0,
              "#0d0887"
             ],
             [
              0.1111111111111111,
              "#46039f"
             ],
             [
              0.2222222222222222,
              "#7201a8"
             ],
             [
              0.3333333333333333,
              "#9c179e"
             ],
             [
              0.4444444444444444,
              "#bd3786"
             ],
             [
              0.5555555555555556,
              "#d8576b"
             ],
             [
              0.6666666666666666,
              "#ed7953"
             ],
             [
              0.7777777777777778,
              "#fb9f3a"
             ],
             [
              0.8888888888888888,
              "#fdca26"
             ],
             [
              1,
              "#f0f921"
             ]
            ],
            "type": "surface"
           }
          ],
          "table": [
           {
            "cells": {
             "fill": {
              "color": "#EBF0F8"
             },
             "line": {
              "color": "white"
             }
            },
            "header": {
             "fill": {
              "color": "#C8D4E3"
             },
             "line": {
              "color": "white"
             }
            },
            "type": "table"
           }
          ]
         },
         "layout": {
          "annotationdefaults": {
           "arrowcolor": "#2a3f5f",
           "arrowhead": 0,
           "arrowwidth": 1
          },
          "autotypenumbers": "strict",
          "coloraxis": {
           "colorbar": {
            "outlinewidth": 0,
            "ticks": ""
           }
          },
          "colorscale": {
           "diverging": [
            [
             0,
             "#8e0152"
            ],
            [
             0.1,
             "#c51b7d"
            ],
            [
             0.2,
             "#de77ae"
            ],
            [
             0.3,
             "#f1b6da"
            ],
            [
             0.4,
             "#fde0ef"
            ],
            [
             0.5,
             "#f7f7f7"
            ],
            [
             0.6,
             "#e6f5d0"
            ],
            [
             0.7,
             "#b8e186"
            ],
            [
             0.8,
             "#7fbc41"
            ],
            [
             0.9,
             "#4d9221"
            ],
            [
             1,
             "#276419"
            ]
           ],
           "sequential": [
            [
             0,
             "#0d0887"
            ],
            [
             0.1111111111111111,
             "#46039f"
            ],
            [
             0.2222222222222222,
             "#7201a8"
            ],
            [
             0.3333333333333333,
             "#9c179e"
            ],
            [
             0.4444444444444444,
             "#bd3786"
            ],
            [
             0.5555555555555556,
             "#d8576b"
            ],
            [
             0.6666666666666666,
             "#ed7953"
            ],
            [
             0.7777777777777778,
             "#fb9f3a"
            ],
            [
             0.8888888888888888,
             "#fdca26"
            ],
            [
             1,
             "#f0f921"
            ]
           ],
           "sequentialminus": [
            [
             0,
             "#0d0887"
            ],
            [
             0.1111111111111111,
             "#46039f"
            ],
            [
             0.2222222222222222,
             "#7201a8"
            ],
            [
             0.3333333333333333,
             "#9c179e"
            ],
            [
             0.4444444444444444,
             "#bd3786"
            ],
            [
             0.5555555555555556,
             "#d8576b"
            ],
            [
             0.6666666666666666,
             "#ed7953"
            ],
            [
             0.7777777777777778,
             "#fb9f3a"
            ],
            [
             0.8888888888888888,
             "#fdca26"
            ],
            [
             1,
             "#f0f921"
            ]
           ]
          },
          "colorway": [
           "#636efa",
           "#EF553B",
           "#00cc96",
           "#ab63fa",
           "#FFA15A",
           "#19d3f3",
           "#FF6692",
           "#B6E880",
           "#FF97FF",
           "#FECB52"
          ],
          "font": {
           "color": "#2a3f5f"
          },
          "geo": {
           "bgcolor": "white",
           "lakecolor": "white",
           "landcolor": "#E5ECF6",
           "showlakes": true,
           "showland": true,
           "subunitcolor": "white"
          },
          "hoverlabel": {
           "align": "left"
          },
          "hovermode": "closest",
          "mapbox": {
           "style": "light"
          },
          "paper_bgcolor": "white",
          "plot_bgcolor": "#E5ECF6",
          "polar": {
           "angularaxis": {
            "gridcolor": "white",
            "linecolor": "white",
            "ticks": ""
           },
           "bgcolor": "#E5ECF6",
           "radialaxis": {
            "gridcolor": "white",
            "linecolor": "white",
            "ticks": ""
           }
          },
          "scene": {
           "xaxis": {
            "backgroundcolor": "#E5ECF6",
            "gridcolor": "white",
            "gridwidth": 2,
            "linecolor": "white",
            "showbackground": true,
            "ticks": "",
            "zerolinecolor": "white"
           },
           "yaxis": {
            "backgroundcolor": "#E5ECF6",
            "gridcolor": "white",
            "gridwidth": 2,
            "linecolor": "white",
            "showbackground": true,
            "ticks": "",
            "zerolinecolor": "white"
           },
           "zaxis": {
            "backgroundcolor": "#E5ECF6",
            "gridcolor": "white",
            "gridwidth": 2,
            "linecolor": "white",
            "showbackground": true,
            "ticks": "",
            "zerolinecolor": "white"
           }
          },
          "shapedefaults": {
           "line": {
            "color": "#2a3f5f"
           }
          },
          "ternary": {
           "aaxis": {
            "gridcolor": "white",
            "linecolor": "white",
            "ticks": ""
           },
           "baxis": {
            "gridcolor": "white",
            "linecolor": "white",
            "ticks": ""
           },
           "bgcolor": "#E5ECF6",
           "caxis": {
            "gridcolor": "white",
            "linecolor": "white",
            "ticks": ""
           }
          },
          "title": {
           "x": 0.05
          },
          "xaxis": {
           "automargin": true,
           "gridcolor": "white",
           "linecolor": "white",
           "ticks": "",
           "title": {
            "standoff": 15
           },
           "zerolinecolor": "white",
           "zerolinewidth": 2
          },
          "yaxis": {
           "automargin": true,
           "gridcolor": "white",
           "linecolor": "white",
           "ticks": "",
           "title": {
            "standoff": 15
           },
           "zerolinecolor": "white",
           "zerolinewidth": 2
          }
         }
        },
        "title": {
         "text": "News often related to Gaza"
        },
        "xaxis": {
         "anchor": "y",
         "domain": [
          0,
          1
         ],
         "title": {
          "text": "\n News Category"
         }
        },
        "yaxis": {
         "anchor": "x",
         "domain": [
          0,
          1
         ],
         "showticklabels": false,
         "ticks": "",
         "title": {
          "text": "Occurence"
         }
        }
       }
      }
     },
     "metadata": {},
     "output_type": "display_data"
    }
   ],
   "source": [
    "def city_labels(city):\n",
    "    \"\"\"\n",
    "    Plot the distribution of news categories (predicted labels)\n",
    "    associated with a given city.\n",
    "\n",
    "    Steps:\n",
    "    1. Filter df_preds for rows matching the selected city.\n",
    "    2. Count how many times each predicted label (category) appears.\n",
    "    3. Plot the results as a bar chart.\n",
    "    \"\"\"\n",
    "\n",
    "    if city in city_list:\n",
    "        # Filter rows for the selected city and count label frequencies\n",
    "        df = (\n",
    "            df_new_pred[df_new_pred['cities'] == city]['predicted_label']\n",
    "            .value_counts()    # count occurrences of each category\n",
    "            .reset_index()     # convert Series → DataFrame\n",
    "        )\n",
    "\n",
    "        # By default, value_counts gives columns [\"index\", \"predicted_label\"]\n",
    "        # You might want to rename them for clarity:\n",
    "        # df.columns = [\"predicted_label\", \"count\"]\n",
    "\n",
    "        # Create a bar chart of categories vs. counts\n",
    "        fig = px.bar(df, x=\"predicted_label\", y=\"count\")\n",
    "\n",
    "        # Customize layout (title, axis labels, hide y-ticks if desired)\n",
    "        fig.update_layout(\n",
    "            title_text=f\"News often related to {city}\",\n",
    "            xaxis_title=\"\\n News Category\",\n",
    "            yaxis_title=\"Number of Occurence\",\n",
    "            yaxis=dict(title=\"Occurence\", showticklabels=False, ticks=\"\")\n",
    "            # yaxis_range=[0,10]   # optional: fix the y-axis range\n",
    "        )\n",
    "\n",
    "        # Customize bar color\n",
    "        fig.update_traces(marker_color='#6D8196')\n",
    "\n",
    "        # Show the plot\n",
    "        fig.show()\n",
    "    else:\n",
    "        # If the city is not found in your city_list\n",
    "        print(f\"{city} could not be sourced!\")\n",
    "\n",
    "\n",
    "# Example usage\n",
    "city_labels('Gaza')\n"
   ]
  },
  {
   "cell_type": "code",
   "execution_count": null,
   "id": "c47701ea",
   "metadata": {},
   "outputs": [],
   "source": []
  },
  {
   "cell_type": "markdown",
   "id": "eccafec1",
   "metadata": {},
   "source": [
    "### What news was cognizance with a particular Nationality?"
   ]
  },
  {
   "cell_type": "code",
   "execution_count": 35,
   "id": "6022d99e",
   "metadata": {},
   "outputs": [
    {
     "data": {
      "application/vnd.plotly.v1+json": {
       "config": {
        "plotlyServerURL": "https://plot.ly"
       },
       "data": [
        {
         "hovertemplate": "predicted_label=%{x}<br>count=%{y}<extra></extra>",
         "legendgroup": "",
         "marker": {
          "color": "#6D8196",
          "pattern": {
           "shape": ""
          }
         },
         "name": "",
         "orientation": "v",
         "showlegend": false,
         "textposition": "auto",
         "type": "bar",
         "x": [
          "Politics",
          "Weather",
          "Travel",
          "Business",
          "Climate",
          "War",
          "Crime",
          "Entertainment",
          "Accidents"
         ],
         "xaxis": "x",
         "y": {
          "bdata": "DQQDAgIBAQEB",
          "dtype": "i1"
         },
         "yaxis": "y"
        }
       ],
       "layout": {
        "barmode": "relative",
        "legend": {
         "tracegroupgap": 0
        },
        "margin": {
         "t": 60
        },
        "template": {
         "data": {
          "bar": [
           {
            "error_x": {
             "color": "#2a3f5f"
            },
            "error_y": {
             "color": "#2a3f5f"
            },
            "marker": {
             "line": {
              "color": "#E5ECF6",
              "width": 0.5
             },
             "pattern": {
              "fillmode": "overlay",
              "size": 10,
              "solidity": 0.2
             }
            },
            "type": "bar"
           }
          ],
          "barpolar": [
           {
            "marker": {
             "line": {
              "color": "#E5ECF6",
              "width": 0.5
             },
             "pattern": {
              "fillmode": "overlay",
              "size": 10,
              "solidity": 0.2
             }
            },
            "type": "barpolar"
           }
          ],
          "carpet": [
           {
            "aaxis": {
             "endlinecolor": "#2a3f5f",
             "gridcolor": "white",
             "linecolor": "white",
             "minorgridcolor": "white",
             "startlinecolor": "#2a3f5f"
            },
            "baxis": {
             "endlinecolor": "#2a3f5f",
             "gridcolor": "white",
             "linecolor": "white",
             "minorgridcolor": "white",
             "startlinecolor": "#2a3f5f"
            },
            "type": "carpet"
           }
          ],
          "choropleth": [
           {
            "colorbar": {
             "outlinewidth": 0,
             "ticks": ""
            },
            "type": "choropleth"
           }
          ],
          "contour": [
           {
            "colorbar": {
             "outlinewidth": 0,
             "ticks": ""
            },
            "colorscale": [
             [
              0,
              "#0d0887"
             ],
             [
              0.1111111111111111,
              "#46039f"
             ],
             [
              0.2222222222222222,
              "#7201a8"
             ],
             [
              0.3333333333333333,
              "#9c179e"
             ],
             [
              0.4444444444444444,
              "#bd3786"
             ],
             [
              0.5555555555555556,
              "#d8576b"
             ],
             [
              0.6666666666666666,
              "#ed7953"
             ],
             [
              0.7777777777777778,
              "#fb9f3a"
             ],
             [
              0.8888888888888888,
              "#fdca26"
             ],
             [
              1,
              "#f0f921"
             ]
            ],
            "type": "contour"
           }
          ],
          "contourcarpet": [
           {
            "colorbar": {
             "outlinewidth": 0,
             "ticks": ""
            },
            "type": "contourcarpet"
           }
          ],
          "heatmap": [
           {
            "colorbar": {
             "outlinewidth": 0,
             "ticks": ""
            },
            "colorscale": [
             [
              0,
              "#0d0887"
             ],
             [
              0.1111111111111111,
              "#46039f"
             ],
             [
              0.2222222222222222,
              "#7201a8"
             ],
             [
              0.3333333333333333,
              "#9c179e"
             ],
             [
              0.4444444444444444,
              "#bd3786"
             ],
             [
              0.5555555555555556,
              "#d8576b"
             ],
             [
              0.6666666666666666,
              "#ed7953"
             ],
             [
              0.7777777777777778,
              "#fb9f3a"
             ],
             [
              0.8888888888888888,
              "#fdca26"
             ],
             [
              1,
              "#f0f921"
             ]
            ],
            "type": "heatmap"
           }
          ],
          "histogram": [
           {
            "marker": {
             "pattern": {
              "fillmode": "overlay",
              "size": 10,
              "solidity": 0.2
             }
            },
            "type": "histogram"
           }
          ],
          "histogram2d": [
           {
            "colorbar": {
             "outlinewidth": 0,
             "ticks": ""
            },
            "colorscale": [
             [
              0,
              "#0d0887"
             ],
             [
              0.1111111111111111,
              "#46039f"
             ],
             [
              0.2222222222222222,
              "#7201a8"
             ],
             [
              0.3333333333333333,
              "#9c179e"
             ],
             [
              0.4444444444444444,
              "#bd3786"
             ],
             [
              0.5555555555555556,
              "#d8576b"
             ],
             [
              0.6666666666666666,
              "#ed7953"
             ],
             [
              0.7777777777777778,
              "#fb9f3a"
             ],
             [
              0.8888888888888888,
              "#fdca26"
             ],
             [
              1,
              "#f0f921"
             ]
            ],
            "type": "histogram2d"
           }
          ],
          "histogram2dcontour": [
           {
            "colorbar": {
             "outlinewidth": 0,
             "ticks": ""
            },
            "colorscale": [
             [
              0,
              "#0d0887"
             ],
             [
              0.1111111111111111,
              "#46039f"
             ],
             [
              0.2222222222222222,
              "#7201a8"
             ],
             [
              0.3333333333333333,
              "#9c179e"
             ],
             [
              0.4444444444444444,
              "#bd3786"
             ],
             [
              0.5555555555555556,
              "#d8576b"
             ],
             [
              0.6666666666666666,
              "#ed7953"
             ],
             [
              0.7777777777777778,
              "#fb9f3a"
             ],
             [
              0.8888888888888888,
              "#fdca26"
             ],
             [
              1,
              "#f0f921"
             ]
            ],
            "type": "histogram2dcontour"
           }
          ],
          "mesh3d": [
           {
            "colorbar": {
             "outlinewidth": 0,
             "ticks": ""
            },
            "type": "mesh3d"
           }
          ],
          "parcoords": [
           {
            "line": {
             "colorbar": {
              "outlinewidth": 0,
              "ticks": ""
             }
            },
            "type": "parcoords"
           }
          ],
          "pie": [
           {
            "automargin": true,
            "type": "pie"
           }
          ],
          "scatter": [
           {
            "fillpattern": {
             "fillmode": "overlay",
             "size": 10,
             "solidity": 0.2
            },
            "type": "scatter"
           }
          ],
          "scatter3d": [
           {
            "line": {
             "colorbar": {
              "outlinewidth": 0,
              "ticks": ""
             }
            },
            "marker": {
             "colorbar": {
              "outlinewidth": 0,
              "ticks": ""
             }
            },
            "type": "scatter3d"
           }
          ],
          "scattercarpet": [
           {
            "marker": {
             "colorbar": {
              "outlinewidth": 0,
              "ticks": ""
             }
            },
            "type": "scattercarpet"
           }
          ],
          "scattergeo": [
           {
            "marker": {
             "colorbar": {
              "outlinewidth": 0,
              "ticks": ""
             }
            },
            "type": "scattergeo"
           }
          ],
          "scattergl": [
           {
            "marker": {
             "colorbar": {
              "outlinewidth": 0,
              "ticks": ""
             }
            },
            "type": "scattergl"
           }
          ],
          "scattermap": [
           {
            "marker": {
             "colorbar": {
              "outlinewidth": 0,
              "ticks": ""
             }
            },
            "type": "scattermap"
           }
          ],
          "scattermapbox": [
           {
            "marker": {
             "colorbar": {
              "outlinewidth": 0,
              "ticks": ""
             }
            },
            "type": "scattermapbox"
           }
          ],
          "scatterpolar": [
           {
            "marker": {
             "colorbar": {
              "outlinewidth": 0,
              "ticks": ""
             }
            },
            "type": "scatterpolar"
           }
          ],
          "scatterpolargl": [
           {
            "marker": {
             "colorbar": {
              "outlinewidth": 0,
              "ticks": ""
             }
            },
            "type": "scatterpolargl"
           }
          ],
          "scatterternary": [
           {
            "marker": {
             "colorbar": {
              "outlinewidth": 0,
              "ticks": ""
             }
            },
            "type": "scatterternary"
           }
          ],
          "surface": [
           {
            "colorbar": {
             "outlinewidth": 0,
             "ticks": ""
            },
            "colorscale": [
             [
              0,
              "#0d0887"
             ],
             [
              0.1111111111111111,
              "#46039f"
             ],
             [
              0.2222222222222222,
              "#7201a8"
             ],
             [
              0.3333333333333333,
              "#9c179e"
             ],
             [
              0.4444444444444444,
              "#bd3786"
             ],
             [
              0.5555555555555556,
              "#d8576b"
             ],
             [
              0.6666666666666666,
              "#ed7953"
             ],
             [
              0.7777777777777778,
              "#fb9f3a"
             ],
             [
              0.8888888888888888,
              "#fdca26"
             ],
             [
              1,
              "#f0f921"
             ]
            ],
            "type": "surface"
           }
          ],
          "table": [
           {
            "cells": {
             "fill": {
              "color": "#EBF0F8"
             },
             "line": {
              "color": "white"
             }
            },
            "header": {
             "fill": {
              "color": "#C8D4E3"
             },
             "line": {
              "color": "white"
             }
            },
            "type": "table"
           }
          ]
         },
         "layout": {
          "annotationdefaults": {
           "arrowcolor": "#2a3f5f",
           "arrowhead": 0,
           "arrowwidth": 1
          },
          "autotypenumbers": "strict",
          "coloraxis": {
           "colorbar": {
            "outlinewidth": 0,
            "ticks": ""
           }
          },
          "colorscale": {
           "diverging": [
            [
             0,
             "#8e0152"
            ],
            [
             0.1,
             "#c51b7d"
            ],
            [
             0.2,
             "#de77ae"
            ],
            [
             0.3,
             "#f1b6da"
            ],
            [
             0.4,
             "#fde0ef"
            ],
            [
             0.5,
             "#f7f7f7"
            ],
            [
             0.6,
             "#e6f5d0"
            ],
            [
             0.7,
             "#b8e186"
            ],
            [
             0.8,
             "#7fbc41"
            ],
            [
             0.9,
             "#4d9221"
            ],
            [
             1,
             "#276419"
            ]
           ],
           "sequential": [
            [
             0,
             "#0d0887"
            ],
            [
             0.1111111111111111,
             "#46039f"
            ],
            [
             0.2222222222222222,
             "#7201a8"
            ],
            [
             0.3333333333333333,
             "#9c179e"
            ],
            [
             0.4444444444444444,
             "#bd3786"
            ],
            [
             0.5555555555555556,
             "#d8576b"
            ],
            [
             0.6666666666666666,
             "#ed7953"
            ],
            [
             0.7777777777777778,
             "#fb9f3a"
            ],
            [
             0.8888888888888888,
             "#fdca26"
            ],
            [
             1,
             "#f0f921"
            ]
           ],
           "sequentialminus": [
            [
             0,
             "#0d0887"
            ],
            [
             0.1111111111111111,
             "#46039f"
            ],
            [
             0.2222222222222222,
             "#7201a8"
            ],
            [
             0.3333333333333333,
             "#9c179e"
            ],
            [
             0.4444444444444444,
             "#bd3786"
            ],
            [
             0.5555555555555556,
             "#d8576b"
            ],
            [
             0.6666666666666666,
             "#ed7953"
            ],
            [
             0.7777777777777778,
             "#fb9f3a"
            ],
            [
             0.8888888888888888,
             "#fdca26"
            ],
            [
             1,
             "#f0f921"
            ]
           ]
          },
          "colorway": [
           "#636efa",
           "#EF553B",
           "#00cc96",
           "#ab63fa",
           "#FFA15A",
           "#19d3f3",
           "#FF6692",
           "#B6E880",
           "#FF97FF",
           "#FECB52"
          ],
          "font": {
           "color": "#2a3f5f"
          },
          "geo": {
           "bgcolor": "white",
           "lakecolor": "white",
           "landcolor": "#E5ECF6",
           "showlakes": true,
           "showland": true,
           "subunitcolor": "white"
          },
          "hoverlabel": {
           "align": "left"
          },
          "hovermode": "closest",
          "mapbox": {
           "style": "light"
          },
          "paper_bgcolor": "white",
          "plot_bgcolor": "#E5ECF6",
          "polar": {
           "angularaxis": {
            "gridcolor": "white",
            "linecolor": "white",
            "ticks": ""
           },
           "bgcolor": "#E5ECF6",
           "radialaxis": {
            "gridcolor": "white",
            "linecolor": "white",
            "ticks": ""
           }
          },
          "scene": {
           "xaxis": {
            "backgroundcolor": "#E5ECF6",
            "gridcolor": "white",
            "gridwidth": 2,
            "linecolor": "white",
            "showbackground": true,
            "ticks": "",
            "zerolinecolor": "white"
           },
           "yaxis": {
            "backgroundcolor": "#E5ECF6",
            "gridcolor": "white",
            "gridwidth": 2,
            "linecolor": "white",
            "showbackground": true,
            "ticks": "",
            "zerolinecolor": "white"
           },
           "zaxis": {
            "backgroundcolor": "#E5ECF6",
            "gridcolor": "white",
            "gridwidth": 2,
            "linecolor": "white",
            "showbackground": true,
            "ticks": "",
            "zerolinecolor": "white"
           }
          },
          "shapedefaults": {
           "line": {
            "color": "#2a3f5f"
           }
          },
          "ternary": {
           "aaxis": {
            "gridcolor": "white",
            "linecolor": "white",
            "ticks": ""
           },
           "baxis": {
            "gridcolor": "white",
            "linecolor": "white",
            "ticks": ""
           },
           "bgcolor": "#E5ECF6",
           "caxis": {
            "gridcolor": "white",
            "linecolor": "white",
            "ticks": ""
           }
          },
          "title": {
           "x": 0.05
          },
          "xaxis": {
           "automargin": true,
           "gridcolor": "white",
           "linecolor": "white",
           "ticks": "",
           "title": {
            "standoff": 15
           },
           "zerolinecolor": "white",
           "zerolinewidth": 2
          },
          "yaxis": {
           "automargin": true,
           "gridcolor": "white",
           "linecolor": "white",
           "ticks": "",
           "title": {
            "standoff": 15
           },
           "zerolinecolor": "white",
           "zerolinewidth": 2
          }
         }
        },
        "title": {
         "text": "News category often related to a Chinese"
        },
        "xaxis": {
         "anchor": "y",
         "domain": [
          0,
          1
         ],
         "title": {
          "text": "\n News Category"
         }
        },
        "yaxis": {
         "anchor": "x",
         "domain": [
          0,
          1
         ],
         "showticklabels": false,
         "ticks": "",
         "title": {
          "text": "Occurence"
         }
        }
       }
      }
     },
     "metadata": {},
     "output_type": "display_data"
    }
   ],
   "source": [
    "# Build a set of all unique nationalities in df_preds for quick lookup\n",
    "\n",
    "\n",
    "\n",
    "def nat_labels(nat):\n",
    "    \"\"\"\n",
    "    Plot the distribution of news categories (predicted labels)\n",
    "    associated with a given nationality.\n",
    "\n",
    "    Steps:\n",
    "    1. Check if the input nationality exists in the dataset.\n",
    "    2. Filter df_preds for rows matching that nationality.\n",
    "    3. Count how many times each predicted label (category) appears.\n",
    "    4. Plot the results as a bar chart.\n",
    "    \"\"\"\n",
    "\n",
    "    if nat in nat_list:\n",
    "        # Filter rows by nationality and count label frequencies\n",
    "        df = (\n",
    "            df_new_pred[df_new_pred['nationalities'] == nat]['predicted_label']\n",
    "            .value_counts()    # count each category\n",
    "            .reset_index()     # convert Series → DataFrame\n",
    "        )\n",
    "\n",
    "        # Optional: rename columns for clarity\n",
    "        # df.columns = [\"predicted_label\", \"count\"]\n",
    "\n",
    "        # Create bar chart\n",
    "        fig = px.bar(df, x=\"predicted_label\", y=\"count\")\n",
    "\n",
    "        # Customize chart layout\n",
    "        fig.update_layout(\n",
    "            title_text=f\"News category often related to a {nat}\",\n",
    "            xaxis_title=\"\\n News Category\",\n",
    "            yaxis=dict(title=\"Occurence\", showticklabels=False, ticks=\"\")\n",
    "            # yaxis_range=[0,10]   # optional: lock y-axis range\n",
    "        )\n",
    "\n",
    "        # Customize bar color\n",
    "        fig.update_traces(marker_color='#6D8196')\n",
    "\n",
    "        # Show the plot\n",
    "        fig.show()\n",
    "\n",
    "    else:\n",
    "        # If nationality not found in dataset\n",
    "        print(f\"{nat} could not be found\")\n",
    "\n",
    "\n",
    "# Example usage\n",
    "nat_labels('Chinese')\n"
   ]
  },
  {
   "cell_type": "code",
   "execution_count": null,
   "id": "6df2abb4",
   "metadata": {},
   "outputs": [],
   "source": []
  },
  {
   "cell_type": "markdown",
   "id": "ad5139be",
   "metadata": {},
   "source": [
    "## Determine Prevalence of Categories per Country"
   ]
  },
  {
   "cell_type": "code",
   "execution_count": 36,
   "id": "d8d9a2cf",
   "metadata": {},
   "outputs": [
    {
     "data": {
      "application/vnd.plotly.v1+json": {
       "config": {
        "plotlyServerURL": "https://plot.ly"
       },
       "data": [
        {
         "coloraxis": "coloraxis",
         "geo": "geo",
         "hovertemplate": "iso3=%{location}<br>count=%{z}<extra></extra>",
         "locations": [
          "GBR",
          "USA",
          "UKR",
          "RUS",
          "IND",
          "CHN",
          "DEU",
          "IDN",
          "PRK",
          "SDN"
         ],
         "name": "",
         "type": "choropleth",
         "z": {
          "bdata": "DAcEAwIBAQEBAQ==",
          "dtype": "i1"
         }
        }
       ],
       "layout": {
        "coloraxis": {
         "colorbar": {
          "title": {
           "text": "count"
          }
         },
         "colorscale": [
          [
           0,
           "rgb(255,255,204)"
          ],
          [
           0.125,
           "rgb(255,237,160)"
          ],
          [
           0.25,
           "rgb(254,217,118)"
          ],
          [
           0.375,
           "rgb(254,178,76)"
          ],
          [
           0.5,
           "rgb(253,141,60)"
          ],
          [
           0.625,
           "rgb(252,78,42)"
          ],
          [
           0.75,
           "rgb(227,26,28)"
          ],
          [
           0.875,
           "rgb(189,0,38)"
          ],
          [
           1,
           "rgb(128,0,38)"
          ]
         ]
        },
        "dragmode": false,
        "geo": {
         "center": {
          "lat": 0,
          "lon": 0
         },
         "domain": {
          "x": [
           0,
           1
          ],
          "y": [
           0,
           1
          ]
         },
         "fitbounds": "locations",
         "projection": {
          "scale": 1,
          "type": "natural earth"
         },
         "showcoastlines": true,
         "showcountries": true,
         "showframe": false,
         "visible": false
        },
        "height": 600,
        "legend": {
         "tracegroupgap": 0
        },
        "template": {
         "data": {
          "bar": [
           {
            "error_x": {
             "color": "#2a3f5f"
            },
            "error_y": {
             "color": "#2a3f5f"
            },
            "marker": {
             "line": {
              "color": "#E5ECF6",
              "width": 0.5
             },
             "pattern": {
              "fillmode": "overlay",
              "size": 10,
              "solidity": 0.2
             }
            },
            "type": "bar"
           }
          ],
          "barpolar": [
           {
            "marker": {
             "line": {
              "color": "#E5ECF6",
              "width": 0.5
             },
             "pattern": {
              "fillmode": "overlay",
              "size": 10,
              "solidity": 0.2
             }
            },
            "type": "barpolar"
           }
          ],
          "carpet": [
           {
            "aaxis": {
             "endlinecolor": "#2a3f5f",
             "gridcolor": "white",
             "linecolor": "white",
             "minorgridcolor": "white",
             "startlinecolor": "#2a3f5f"
            },
            "baxis": {
             "endlinecolor": "#2a3f5f",
             "gridcolor": "white",
             "linecolor": "white",
             "minorgridcolor": "white",
             "startlinecolor": "#2a3f5f"
            },
            "type": "carpet"
           }
          ],
          "choropleth": [
           {
            "colorbar": {
             "outlinewidth": 0,
             "ticks": ""
            },
            "type": "choropleth"
           }
          ],
          "contour": [
           {
            "colorbar": {
             "outlinewidth": 0,
             "ticks": ""
            },
            "colorscale": [
             [
              0,
              "#0d0887"
             ],
             [
              0.1111111111111111,
              "#46039f"
             ],
             [
              0.2222222222222222,
              "#7201a8"
             ],
             [
              0.3333333333333333,
              "#9c179e"
             ],
             [
              0.4444444444444444,
              "#bd3786"
             ],
             [
              0.5555555555555556,
              "#d8576b"
             ],
             [
              0.6666666666666666,
              "#ed7953"
             ],
             [
              0.7777777777777778,
              "#fb9f3a"
             ],
             [
              0.8888888888888888,
              "#fdca26"
             ],
             [
              1,
              "#f0f921"
             ]
            ],
            "type": "contour"
           }
          ],
          "contourcarpet": [
           {
            "colorbar": {
             "outlinewidth": 0,
             "ticks": ""
            },
            "type": "contourcarpet"
           }
          ],
          "heatmap": [
           {
            "colorbar": {
             "outlinewidth": 0,
             "ticks": ""
            },
            "colorscale": [
             [
              0,
              "#0d0887"
             ],
             [
              0.1111111111111111,
              "#46039f"
             ],
             [
              0.2222222222222222,
              "#7201a8"
             ],
             [
              0.3333333333333333,
              "#9c179e"
             ],
             [
              0.4444444444444444,
              "#bd3786"
             ],
             [
              0.5555555555555556,
              "#d8576b"
             ],
             [
              0.6666666666666666,
              "#ed7953"
             ],
             [
              0.7777777777777778,
              "#fb9f3a"
             ],
             [
              0.8888888888888888,
              "#fdca26"
             ],
             [
              1,
              "#f0f921"
             ]
            ],
            "type": "heatmap"
           }
          ],
          "histogram": [
           {
            "marker": {
             "pattern": {
              "fillmode": "overlay",
              "size": 10,
              "solidity": 0.2
             }
            },
            "type": "histogram"
           }
          ],
          "histogram2d": [
           {
            "colorbar": {
             "outlinewidth": 0,
             "ticks": ""
            },
            "colorscale": [
             [
              0,
              "#0d0887"
             ],
             [
              0.1111111111111111,
              "#46039f"
             ],
             [
              0.2222222222222222,
              "#7201a8"
             ],
             [
              0.3333333333333333,
              "#9c179e"
             ],
             [
              0.4444444444444444,
              "#bd3786"
             ],
             [
              0.5555555555555556,
              "#d8576b"
             ],
             [
              0.6666666666666666,
              "#ed7953"
             ],
             [
              0.7777777777777778,
              "#fb9f3a"
             ],
             [
              0.8888888888888888,
              "#fdca26"
             ],
             [
              1,
              "#f0f921"
             ]
            ],
            "type": "histogram2d"
           }
          ],
          "histogram2dcontour": [
           {
            "colorbar": {
             "outlinewidth": 0,
             "ticks": ""
            },
            "colorscale": [
             [
              0,
              "#0d0887"
             ],
             [
              0.1111111111111111,
              "#46039f"
             ],
             [
              0.2222222222222222,
              "#7201a8"
             ],
             [
              0.3333333333333333,
              "#9c179e"
             ],
             [
              0.4444444444444444,
              "#bd3786"
             ],
             [
              0.5555555555555556,
              "#d8576b"
             ],
             [
              0.6666666666666666,
              "#ed7953"
             ],
             [
              0.7777777777777778,
              "#fb9f3a"
             ],
             [
              0.8888888888888888,
              "#fdca26"
             ],
             [
              1,
              "#f0f921"
             ]
            ],
            "type": "histogram2dcontour"
           }
          ],
          "mesh3d": [
           {
            "colorbar": {
             "outlinewidth": 0,
             "ticks": ""
            },
            "type": "mesh3d"
           }
          ],
          "parcoords": [
           {
            "line": {
             "colorbar": {
              "outlinewidth": 0,
              "ticks": ""
             }
            },
            "type": "parcoords"
           }
          ],
          "pie": [
           {
            "automargin": true,
            "type": "pie"
           }
          ],
          "scatter": [
           {
            "fillpattern": {
             "fillmode": "overlay",
             "size": 10,
             "solidity": 0.2
            },
            "type": "scatter"
           }
          ],
          "scatter3d": [
           {
            "line": {
             "colorbar": {
              "outlinewidth": 0,
              "ticks": ""
             }
            },
            "marker": {
             "colorbar": {
              "outlinewidth": 0,
              "ticks": ""
             }
            },
            "type": "scatter3d"
           }
          ],
          "scattercarpet": [
           {
            "marker": {
             "colorbar": {
              "outlinewidth": 0,
              "ticks": ""
             }
            },
            "type": "scattercarpet"
           }
          ],
          "scattergeo": [
           {
            "marker": {
             "colorbar": {
              "outlinewidth": 0,
              "ticks": ""
             }
            },
            "type": "scattergeo"
           }
          ],
          "scattergl": [
           {
            "marker": {
             "colorbar": {
              "outlinewidth": 0,
              "ticks": ""
             }
            },
            "type": "scattergl"
           }
          ],
          "scattermap": [
           {
            "marker": {
             "colorbar": {
              "outlinewidth": 0,
              "ticks": ""
             }
            },
            "type": "scattermap"
           }
          ],
          "scattermapbox": [
           {
            "marker": {
             "colorbar": {
              "outlinewidth": 0,
              "ticks": ""
             }
            },
            "type": "scattermapbox"
           }
          ],
          "scatterpolar": [
           {
            "marker": {
             "colorbar": {
              "outlinewidth": 0,
              "ticks": ""
             }
            },
            "type": "scatterpolar"
           }
          ],
          "scatterpolargl": [
           {
            "marker": {
             "colorbar": {
              "outlinewidth": 0,
              "ticks": ""
             }
            },
            "type": "scatterpolargl"
           }
          ],
          "scatterternary": [
           {
            "marker": {
             "colorbar": {
              "outlinewidth": 0,
              "ticks": ""
             }
            },
            "type": "scatterternary"
           }
          ],
          "surface": [
           {
            "colorbar": {
             "outlinewidth": 0,
             "ticks": ""
            },
            "colorscale": [
             [
              0,
              "#0d0887"
             ],
             [
              0.1111111111111111,
              "#46039f"
             ],
             [
              0.2222222222222222,
              "#7201a8"
             ],
             [
              0.3333333333333333,
              "#9c179e"
             ],
             [
              0.4444444444444444,
              "#bd3786"
             ],
             [
              0.5555555555555556,
              "#d8576b"
             ],
             [
              0.6666666666666666,
              "#ed7953"
             ],
             [
              0.7777777777777778,
              "#fb9f3a"
             ],
             [
              0.8888888888888888,
              "#fdca26"
             ],
             [
              1,
              "#f0f921"
             ]
            ],
            "type": "surface"
           }
          ],
          "table": [
           {
            "cells": {
             "fill": {
              "color": "#EBF0F8"
             },
             "line": {
              "color": "white"
             }
            },
            "header": {
             "fill": {
              "color": "#C8D4E3"
             },
             "line": {
              "color": "white"
             }
            },
            "type": "table"
           }
          ]
         },
         "layout": {
          "annotationdefaults": {
           "arrowcolor": "#2a3f5f",
           "arrowhead": 0,
           "arrowwidth": 1
          },
          "autotypenumbers": "strict",
          "coloraxis": {
           "colorbar": {
            "outlinewidth": 0,
            "ticks": ""
           }
          },
          "colorscale": {
           "diverging": [
            [
             0,
             "#8e0152"
            ],
            [
             0.1,
             "#c51b7d"
            ],
            [
             0.2,
             "#de77ae"
            ],
            [
             0.3,
             "#f1b6da"
            ],
            [
             0.4,
             "#fde0ef"
            ],
            [
             0.5,
             "#f7f7f7"
            ],
            [
             0.6,
             "#e6f5d0"
            ],
            [
             0.7,
             "#b8e186"
            ],
            [
             0.8,
             "#7fbc41"
            ],
            [
             0.9,
             "#4d9221"
            ],
            [
             1,
             "#276419"
            ]
           ],
           "sequential": [
            [
             0,
             "#0d0887"
            ],
            [
             0.1111111111111111,
             "#46039f"
            ],
            [
             0.2222222222222222,
             "#7201a8"
            ],
            [
             0.3333333333333333,
             "#9c179e"
            ],
            [
             0.4444444444444444,
             "#bd3786"
            ],
            [
             0.5555555555555556,
             "#d8576b"
            ],
            [
             0.6666666666666666,
             "#ed7953"
            ],
            [
             0.7777777777777778,
             "#fb9f3a"
            ],
            [
             0.8888888888888888,
             "#fdca26"
            ],
            [
             1,
             "#f0f921"
            ]
           ],
           "sequentialminus": [
            [
             0,
             "#0d0887"
            ],
            [
             0.1111111111111111,
             "#46039f"
            ],
            [
             0.2222222222222222,
             "#7201a8"
            ],
            [
             0.3333333333333333,
             "#9c179e"
            ],
            [
             0.4444444444444444,
             "#bd3786"
            ],
            [
             0.5555555555555556,
             "#d8576b"
            ],
            [
             0.6666666666666666,
             "#ed7953"
            ],
            [
             0.7777777777777778,
             "#fb9f3a"
            ],
            [
             0.8888888888888888,
             "#fdca26"
            ],
            [
             1,
             "#f0f921"
            ]
           ]
          },
          "colorway": [
           "#636efa",
           "#EF553B",
           "#00cc96",
           "#ab63fa",
           "#FFA15A",
           "#19d3f3",
           "#FF6692",
           "#B6E880",
           "#FF97FF",
           "#FECB52"
          ],
          "font": {
           "color": "#2a3f5f"
          },
          "geo": {
           "bgcolor": "white",
           "lakecolor": "white",
           "landcolor": "#E5ECF6",
           "showlakes": true,
           "showland": true,
           "subunitcolor": "white"
          },
          "hoverlabel": {
           "align": "left"
          },
          "hovermode": "closest",
          "mapbox": {
           "style": "light"
          },
          "paper_bgcolor": "white",
          "plot_bgcolor": "#E5ECF6",
          "polar": {
           "angularaxis": {
            "gridcolor": "white",
            "linecolor": "white",
            "ticks": ""
           },
           "bgcolor": "#E5ECF6",
           "radialaxis": {
            "gridcolor": "white",
            "linecolor": "white",
            "ticks": ""
           }
          },
          "scene": {
           "xaxis": {
            "backgroundcolor": "#E5ECF6",
            "gridcolor": "white",
            "gridwidth": 2,
            "linecolor": "white",
            "showbackground": true,
            "ticks": "",
            "zerolinecolor": "white"
           },
           "yaxis": {
            "backgroundcolor": "#E5ECF6",
            "gridcolor": "white",
            "gridwidth": 2,
            "linecolor": "white",
            "showbackground": true,
            "ticks": "",
            "zerolinecolor": "white"
           },
           "zaxis": {
            "backgroundcolor": "#E5ECF6",
            "gridcolor": "white",
            "gridwidth": 2,
            "linecolor": "white",
            "showbackground": true,
            "ticks": "",
            "zerolinecolor": "white"
           }
          },
          "shapedefaults": {
           "line": {
            "color": "#2a3f5f"
           }
          },
          "ternary": {
           "aaxis": {
            "gridcolor": "white",
            "linecolor": "white",
            "ticks": ""
           },
           "baxis": {
            "gridcolor": "white",
            "linecolor": "white",
            "ticks": ""
           },
           "bgcolor": "#E5ECF6",
           "caxis": {
            "gridcolor": "white",
            "linecolor": "white",
            "ticks": ""
           }
          },
          "title": {
           "x": 0.05
          },
          "xaxis": {
           "automargin": true,
           "gridcolor": "white",
           "linecolor": "white",
           "ticks": "",
           "title": {
            "standoff": 15
           },
           "zerolinecolor": "white",
           "zerolinewidth": 2
          },
          "yaxis": {
           "automargin": true,
           "gridcolor": "white",
           "linecolor": "white",
           "ticks": "",
           "title": {
            "standoff": 15
           },
           "zerolinecolor": "white",
           "zerolinewidth": 2
          }
         }
        },
        "title": {
         "text": "Global Spread of 'Technology' mentions"
        },
        "width": 1000
       }
      }
     },
     "metadata": {},
     "output_type": "display_data"
    }
   ],
   "source": [
    "def label_country(label):\n",
    "    \"\"\"\n",
    "    Plot the global spread of a given news category (predicted label)\n",
    "    by mapping its mentions across countries.\n",
    "\n",
    "    Steps:\n",
    "    1. Check if the input label exists in the dataset.\n",
    "    2. Filter df_preds for rows matching that label.\n",
    "    3. Count how many times each country is associated with the label.\n",
    "    4. Match country names with geonamescache ISO3 codes.\n",
    "    5. Plot a choropleth world map where color intensity = frequency.\n",
    "    \"\"\"\n",
    "\n",
    "    if label in label_list:\n",
    "        # Filter rows for the selected label, group by country, and count occurrences\n",
    "        dfc = (\n",
    "            df_new_pred[df_new_pred['predicted_label'] == label]\n",
    "            .groupby('predicted_label')['countries']\n",
    "            .value_counts()      # count how often each country appears\n",
    "            .reset_index()       # convert Series → DataFrame\n",
    "        )\n",
    "\n",
    "        # Rename columns for clarity\n",
    "        dfc.columns = ['labels', 'country', 'count']\n",
    "\n",
    "        # Load geonamescache data for countries\n",
    "        gc = geonamescache.GeonamesCache()\n",
    "        countries_dict = gc.get_countries()\n",
    "\n",
    "        # Convert geonamescache dictionary → DataFrame\n",
    "        gcountries = pd.DataFrame.from_dict(countries_dict, orient=\"index\")\n",
    "        gcountries = gcountries[[\"name\", \"iso3\"]]  # keep only useful columns\n",
    "\n",
    "        # Normalize names for consistent merging (capitalize first letter)\n",
    "        dfc[\"country_cap\"] = dfc[\"country\"].str.capitalize()\n",
    "        gcountries[\"name_cap\"] = gcountries[\"name\"].str.capitalize()\n",
    "\n",
    "        # Merge label-country counts with official geonames country info\n",
    "        merged = dfc.merge(\n",
    "            gcountries, \n",
    "            left_on=\"country_cap\", \n",
    "            right_on=\"name_cap\", \n",
    "            how=\"left\"\n",
    "        )\n",
    "\n",
    "        # --- Choropleth map ---\n",
    "        plot = px.choropleth(\n",
    "            merged,\n",
    "            locations=\"iso3\",                # ISO3 country codes\n",
    "            color=\"count\",                   # frequency as color intensity\n",
    "            color_continuous_scale=\"ylorrd\", # color palette\n",
    "            title=f\"Global Spread of '{label}' mentions\"\n",
    "        )\n",
    "\n",
    "        # Fix the figure size and projection\n",
    "        plot.update_layout(\n",
    "            width=1000,\n",
    "            height=600,\n",
    "            geo=dict(\n",
    "                projection_type=\"natural earth\",  # natural earth projection\n",
    "                showframe=False,\n",
    "                showcoastlines=True,\n",
    "                showcountries=True,\n",
    "                projection_scale=1,               # keep globe scaling\n",
    "                center=dict(lat=0, lon=0)         # center map\n",
    "            )\n",
    "        )\n",
    "\n",
    "        # Disable zooming/dragging\n",
    "        plot.update_layout(dragmode=False)\n",
    "\n",
    "        # Auto-fit the map bounds to locations\n",
    "        plot.update_geos(fitbounds=\"locations\", visible=False)\n",
    "\n",
    "        # Show the final plot\n",
    "        plot.show()\n",
    "\n",
    "    else:\n",
    "        # If label not in your label_list, show warning\n",
    "        print(f\"Please, Select the right category \\n{label} not in Categories available\")\n",
    "\n",
    "\n",
    "# Example usage\n",
    "label_country('Technology')\n"
   ]
  },
  {
   "cell_type": "code",
   "execution_count": null,
   "id": "396f1f3b",
   "metadata": {},
   "outputs": [],
   "source": []
  },
  {
   "cell_type": "code",
   "execution_count": 37,
   "id": "7f70c8a1",
   "metadata": {},
   "outputs": [],
   "source": [
    "# export new data for streamlit app \n",
    "df_new_pred.to_csv('dataset/pred_streamlit.csv')"
   ]
  },
  {
   "cell_type": "code",
   "execution_count": null,
   "id": "7a202deb",
   "metadata": {},
   "outputs": [],
   "source": []
  }
 ],
 "metadata": {
  "kernelspec": {
   "display_name": "newsenv",
   "language": "python",
   "name": "python3"
  },
  "language_info": {
   "codemirror_mode": {
    "name": "ipython",
    "version": 3
   },
   "file_extension": ".py",
   "mimetype": "text/x-python",
   "name": "python",
   "nbconvert_exporter": "python",
   "pygments_lexer": "ipython3",
   "version": "3.10.12"
  }
 },
 "nbformat": 4,
 "nbformat_minor": 5
}
