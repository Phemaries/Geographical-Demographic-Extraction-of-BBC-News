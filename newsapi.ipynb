{
 "cells": [
  {
   "cell_type": "markdown",
   "id": "e6b98503",
   "metadata": {},
   "source": [
    "## Data Extraction and Feature Engineering"
   ]
  },
  {
   "cell_type": "markdown",
   "id": "5493cecf",
   "metadata": {},
   "source": [
    "This script prepares raw BBC news text → structured dataset with extracted countries, cities, and nationalities for downstream analysis."
   ]
  },
  {
   "cell_type": "code",
   "execution_count": null,
   "id": "c8edb5f9",
   "metadata": {},
   "outputs": [],
   "source": [
    "import pandas as pd\n",
    "import numpy as np\n",
    "import matplotlib.pyplot as plt\n",
    "\n",
    "\n",
    "import spacy\n",
    "\n",
    "\n",
    "import pycountry\n",
    "\n",
    "import geonamescache\n",
    "\n"
   ]
  },
  {
   "cell_type": "code",
   "execution_count": null,
   "id": "14458ad7",
   "metadata": {},
   "outputs": [
    {
     "data": {
      "text/html": [
       "<div>\n",
       "<style scoped>\n",
       "    .dataframe tbody tr th:only-of-type {\n",
       "        vertical-align: middle;\n",
       "    }\n",
       "\n",
       "    .dataframe tbody tr th {\n",
       "        vertical-align: top;\n",
       "    }\n",
       "\n",
       "    .dataframe thead th {\n",
       "        text-align: right;\n",
       "    }\n",
       "</style>\n",
       "<table border=\"1\" class=\"dataframe\">\n",
       "  <thead>\n",
       "    <tr style=\"text-align: right;\">\n",
       "      <th></th>\n",
       "      <th>title</th>\n",
       "      <th>pubDate</th>\n",
       "      <th>guid</th>\n",
       "      <th>link</th>\n",
       "      <th>description</th>\n",
       "    </tr>\n",
       "  </thead>\n",
       "  <tbody>\n",
       "    <tr>\n",
       "      <th>0</th>\n",
       "      <td>Ukraine: Angry Zelensky vows to punish Russian...</td>\n",
       "      <td>Mon, 07 Mar 2022 08:01:56 GMT</td>\n",
       "      <td>https://www.bbc.co.uk/news/world-europe-60638042</td>\n",
       "      <td>https://www.bbc.co.uk/news/world-europe-606380...</td>\n",
       "      <td>The Ukrainian president says the country will ...</td>\n",
       "    </tr>\n",
       "    <tr>\n",
       "      <th>1</th>\n",
       "      <td>War in Ukraine: Taking cover in a town under a...</td>\n",
       "      <td>Sun, 06 Mar 2022 22:49:58 GMT</td>\n",
       "      <td>https://www.bbc.co.uk/news/world-europe-60641873</td>\n",
       "      <td>https://www.bbc.co.uk/news/world-europe-606418...</td>\n",
       "      <td>Jeremy Bowen was on the frontline in Irpin, as...</td>\n",
       "    </tr>\n",
       "    <tr>\n",
       "      <th>2</th>\n",
       "      <td>Ukraine war 'catastrophic for global food'</td>\n",
       "      <td>Mon, 07 Mar 2022 00:14:42 GMT</td>\n",
       "      <td>https://www.bbc.co.uk/news/business-60623941</td>\n",
       "      <td>https://www.bbc.co.uk/news/business-60623941?a...</td>\n",
       "      <td>One of the world's biggest fertiliser firms sa...</td>\n",
       "    </tr>\n",
       "    <tr>\n",
       "      <th>3</th>\n",
       "      <td>Manchester Arena bombing: Saffie Roussos's par...</td>\n",
       "      <td>Mon, 07 Mar 2022 00:05:40 GMT</td>\n",
       "      <td>https://www.bbc.co.uk/news/uk-60579079</td>\n",
       "      <td>https://www.bbc.co.uk/news/uk-60579079?at_medi...</td>\n",
       "      <td>The parents of the Manchester Arena bombing's ...</td>\n",
       "    </tr>\n",
       "    <tr>\n",
       "      <th>4</th>\n",
       "      <td>Ukraine conflict: Oil price soars to highest l...</td>\n",
       "      <td>Mon, 07 Mar 2022 08:15:53 GMT</td>\n",
       "      <td>https://www.bbc.co.uk/news/business-60642786</td>\n",
       "      <td>https://www.bbc.co.uk/news/business-60642786?a...</td>\n",
       "      <td>Consumers are feeling the impact of higher ene...</td>\n",
       "    </tr>\n",
       "  </tbody>\n",
       "</table>\n",
       "</div>"
      ],
      "text/plain": [
       "                                               title  \\\n",
       "0  Ukraine: Angry Zelensky vows to punish Russian...   \n",
       "1  War in Ukraine: Taking cover in a town under a...   \n",
       "2         Ukraine war 'catastrophic for global food'   \n",
       "3  Manchester Arena bombing: Saffie Roussos's par...   \n",
       "4  Ukraine conflict: Oil price soars to highest l...   \n",
       "\n",
       "                         pubDate  \\\n",
       "0  Mon, 07 Mar 2022 08:01:56 GMT   \n",
       "1  Sun, 06 Mar 2022 22:49:58 GMT   \n",
       "2  Mon, 07 Mar 2022 00:14:42 GMT   \n",
       "3  Mon, 07 Mar 2022 00:05:40 GMT   \n",
       "4  Mon, 07 Mar 2022 08:15:53 GMT   \n",
       "\n",
       "                                               guid  \\\n",
       "0  https://www.bbc.co.uk/news/world-europe-60638042   \n",
       "1  https://www.bbc.co.uk/news/world-europe-60641873   \n",
       "2      https://www.bbc.co.uk/news/business-60623941   \n",
       "3            https://www.bbc.co.uk/news/uk-60579079   \n",
       "4      https://www.bbc.co.uk/news/business-60642786   \n",
       "\n",
       "                                                link  \\\n",
       "0  https://www.bbc.co.uk/news/world-europe-606380...   \n",
       "1  https://www.bbc.co.uk/news/world-europe-606418...   \n",
       "2  https://www.bbc.co.uk/news/business-60623941?a...   \n",
       "3  https://www.bbc.co.uk/news/uk-60579079?at_medi...   \n",
       "4  https://www.bbc.co.uk/news/business-60642786?a...   \n",
       "\n",
       "                                         description  \n",
       "0  The Ukrainian president says the country will ...  \n",
       "1  Jeremy Bowen was on the frontline in Irpin, as...  \n",
       "2  One of the world's biggest fertiliser firms sa...  \n",
       "3  The parents of the Manchester Arena bombing's ...  \n",
       "4  Consumers are feeling the impact of higher ene...  "
      ]
     },
     "execution_count": 2,
     "metadata": {},
     "output_type": "execute_result"
    }
   ],
   "source": [
    "# load in dataset\n",
    "df_bbc = pd.read_csv('dataset/bbc_news.csv')\n",
    "df_bbc.head()"
   ]
  },
  {
   "cell_type": "code",
   "execution_count": null,
   "id": "222bd7a0",
   "metadata": {},
   "outputs": [],
   "source": []
  },
  {
   "cell_type": "code",
   "execution_count": 4,
   "id": "761d7c59",
   "metadata": {},
   "outputs": [],
   "source": [
    "# drop title duplicates\n",
    "df_bbc = df_bbc.drop_duplicates(subset='title')"
   ]
  },
  {
   "cell_type": "code",
   "execution_count": 5,
   "id": "f5052c29",
   "metadata": {},
   "outputs": [
    {
     "data": {
      "text/plain": [
       "(39653, 5)"
      ]
     },
     "execution_count": 5,
     "metadata": {},
     "output_type": "execute_result"
    }
   ],
   "source": [
    "df_bbc.shape"
   ]
  },
  {
   "cell_type": "code",
   "execution_count": 7,
   "id": "7796ec0c",
   "metadata": {},
   "outputs": [
    {
     "data": {
      "text/plain": [
       "Index(['title', 'pubDate', 'guid', 'link', 'description'], dtype='object')"
      ]
     },
     "execution_count": 7,
     "metadata": {},
     "output_type": "execute_result"
    }
   ],
   "source": [
    "df_bbc.columns"
   ]
  },
  {
   "cell_type": "code",
   "execution_count": 8,
   "id": "64a1c209",
   "metadata": {},
   "outputs": [
    {
     "data": {
      "text/html": [
       "<div>\n",
       "<style scoped>\n",
       "    .dataframe tbody tr th:only-of-type {\n",
       "        vertical-align: middle;\n",
       "    }\n",
       "\n",
       "    .dataframe tbody tr th {\n",
       "        vertical-align: top;\n",
       "    }\n",
       "\n",
       "    .dataframe thead th {\n",
       "        text-align: right;\n",
       "    }\n",
       "</style>\n",
       "<table border=\"1\" class=\"dataframe\">\n",
       "  <thead>\n",
       "    <tr style=\"text-align: right;\">\n",
       "      <th></th>\n",
       "      <th>title</th>\n",
       "      <th>pubDate</th>\n",
       "      <th>guid</th>\n",
       "      <th>link</th>\n",
       "      <th>description</th>\n",
       "    </tr>\n",
       "  </thead>\n",
       "  <tbody>\n",
       "    <tr>\n",
       "      <th>42110</th>\n",
       "      <td>Highlights: Wales make history in Dublin</td>\n",
       "      <td>Tue, 03 Dec 2024 23:07:27 GMT</td>\n",
       "      <td>https://www.bbc.com/sport/football/videos/ckg1...</td>\n",
       "      <td>https://www.bbc.com/sport/football/videos/ckg1...</td>\n",
       "      <td>Watch highlights as Wales win 2-1 in Dublin fo...</td>\n",
       "    </tr>\n",
       "    <tr>\n",
       "      <th>42111</th>\n",
       "      <td>Gang jailed over £200m of cocaine in banana boxes</td>\n",
       "      <td>Tue, 03 Dec 2024 17:48:54 GMT</td>\n",
       "      <td>https://www.bbc.com/news/articles/c3e8pvg284no#9</td>\n",
       "      <td>https://www.bbc.com/news/articles/c3e8pvg284no</td>\n",
       "      <td>More than two tonnes of the Class A drug was s...</td>\n",
       "    </tr>\n",
       "    <tr>\n",
       "      <th>42112</th>\n",
       "      <td>Scottish Budget presents huge challenges for SNP</td>\n",
       "      <td>Tue, 03 Dec 2024 23:00:17 GMT</td>\n",
       "      <td>https://www.bbc.com/news/articles/ckg1m1j2grpo#9</td>\n",
       "      <td>https://www.bbc.com/news/articles/ckg1m1j2grpo</td>\n",
       "      <td>Finance Secretary Shona Robison is preparing t...</td>\n",
       "    </tr>\n",
       "    <tr>\n",
       "      <th>42113</th>\n",
       "      <td>Celebrations as Wales make history qualifying ...</td>\n",
       "      <td>Wed, 04 Dec 2024 00:05:52 GMT</td>\n",
       "      <td>https://www.bbc.com/news/articles/c791nq8nl73o#9</td>\n",
       "      <td>https://www.bbc.com/news/articles/c791nq8nl73o</td>\n",
       "      <td>Wales defeated the Republic of Ireland 2-1 mak...</td>\n",
       "    </tr>\n",
       "    <tr>\n",
       "      <th>42114</th>\n",
       "      <td>School tells Muslim girls it’s ‘not safe’ for ...</td>\n",
       "      <td>Wed, 04 Dec 2024 00:03:58 GMT</td>\n",
       "      <td>https://www.bbc.com/news/articles/cx2wk0k4597o#9</td>\n",
       "      <td>https://www.bbc.com/news/articles/cx2wk0k4597o</td>\n",
       "      <td>Three children have not been back to the Belfa...</td>\n",
       "    </tr>\n",
       "  </tbody>\n",
       "</table>\n",
       "</div>"
      ],
      "text/plain": [
       "                                                   title  \\\n",
       "42110           Highlights: Wales make history in Dublin   \n",
       "42111  Gang jailed over £200m of cocaine in banana boxes   \n",
       "42112   Scottish Budget presents huge challenges for SNP   \n",
       "42113  Celebrations as Wales make history qualifying ...   \n",
       "42114  School tells Muslim girls it’s ‘not safe’ for ...   \n",
       "\n",
       "                             pubDate  \\\n",
       "42110  Tue, 03 Dec 2024 23:07:27 GMT   \n",
       "42111  Tue, 03 Dec 2024 17:48:54 GMT   \n",
       "42112  Tue, 03 Dec 2024 23:00:17 GMT   \n",
       "42113  Wed, 04 Dec 2024 00:05:52 GMT   \n",
       "42114  Wed, 04 Dec 2024 00:03:58 GMT   \n",
       "\n",
       "                                                    guid  \\\n",
       "42110  https://www.bbc.com/sport/football/videos/ckg1...   \n",
       "42111   https://www.bbc.com/news/articles/c3e8pvg284no#9   \n",
       "42112   https://www.bbc.com/news/articles/ckg1m1j2grpo#9   \n",
       "42113   https://www.bbc.com/news/articles/c791nq8nl73o#9   \n",
       "42114   https://www.bbc.com/news/articles/cx2wk0k4597o#9   \n",
       "\n",
       "                                                    link  \\\n",
       "42110  https://www.bbc.com/sport/football/videos/ckg1...   \n",
       "42111     https://www.bbc.com/news/articles/c3e8pvg284no   \n",
       "42112     https://www.bbc.com/news/articles/ckg1m1j2grpo   \n",
       "42113     https://www.bbc.com/news/articles/c791nq8nl73o   \n",
       "42114     https://www.bbc.com/news/articles/cx2wk0k4597o   \n",
       "\n",
       "                                             description  \n",
       "42110  Watch highlights as Wales win 2-1 in Dublin fo...  \n",
       "42111  More than two tonnes of the Class A drug was s...  \n",
       "42112  Finance Secretary Shona Robison is preparing t...  \n",
       "42113  Wales defeated the Republic of Ireland 2-1 mak...  \n",
       "42114  Three children have not been back to the Belfa...  "
      ]
     },
     "execution_count": 8,
     "metadata": {},
     "output_type": "execute_result"
    }
   ],
   "source": [
    "df_bbc.tail()"
   ]
  },
  {
   "cell_type": "code",
   "execution_count": null,
   "id": "e1998dd1",
   "metadata": {},
   "outputs": [],
   "source": [
    "# combine for title and text values for feature\n",
    "df_bbc['text'] = df_bbc['title'] + ' ' + df_bbc['description']"
   ]
  },
  {
   "cell_type": "code",
   "execution_count": 10,
   "id": "c387bfb0",
   "metadata": {},
   "outputs": [
    {
     "data": {
      "text/html": [
       "<div>\n",
       "<style scoped>\n",
       "    .dataframe tbody tr th:only-of-type {\n",
       "        vertical-align: middle;\n",
       "    }\n",
       "\n",
       "    .dataframe tbody tr th {\n",
       "        vertical-align: top;\n",
       "    }\n",
       "\n",
       "    .dataframe thead th {\n",
       "        text-align: right;\n",
       "    }\n",
       "</style>\n",
       "<table border=\"1\" class=\"dataframe\">\n",
       "  <thead>\n",
       "    <tr style=\"text-align: right;\">\n",
       "      <th></th>\n",
       "      <th>title</th>\n",
       "      <th>pubDate</th>\n",
       "      <th>guid</th>\n",
       "      <th>link</th>\n",
       "      <th>description</th>\n",
       "      <th>text</th>\n",
       "    </tr>\n",
       "  </thead>\n",
       "  <tbody>\n",
       "    <tr>\n",
       "      <th>0</th>\n",
       "      <td>Ukraine: Angry Zelensky vows to punish Russian...</td>\n",
       "      <td>Mon, 07 Mar 2022 08:01:56 GMT</td>\n",
       "      <td>https://www.bbc.co.uk/news/world-europe-60638042</td>\n",
       "      <td>https://www.bbc.co.uk/news/world-europe-606380...</td>\n",
       "      <td>The Ukrainian president says the country will ...</td>\n",
       "      <td>Ukraine: Angry Zelensky vows to punish Russian...</td>\n",
       "    </tr>\n",
       "    <tr>\n",
       "      <th>1</th>\n",
       "      <td>War in Ukraine: Taking cover in a town under a...</td>\n",
       "      <td>Sun, 06 Mar 2022 22:49:58 GMT</td>\n",
       "      <td>https://www.bbc.co.uk/news/world-europe-60641873</td>\n",
       "      <td>https://www.bbc.co.uk/news/world-europe-606418...</td>\n",
       "      <td>Jeremy Bowen was on the frontline in Irpin, as...</td>\n",
       "      <td>War in Ukraine: Taking cover in a town under a...</td>\n",
       "    </tr>\n",
       "    <tr>\n",
       "      <th>2</th>\n",
       "      <td>Ukraine war 'catastrophic for global food'</td>\n",
       "      <td>Mon, 07 Mar 2022 00:14:42 GMT</td>\n",
       "      <td>https://www.bbc.co.uk/news/business-60623941</td>\n",
       "      <td>https://www.bbc.co.uk/news/business-60623941?a...</td>\n",
       "      <td>One of the world's biggest fertiliser firms sa...</td>\n",
       "      <td>Ukraine war 'catastrophic for global food' One...</td>\n",
       "    </tr>\n",
       "    <tr>\n",
       "      <th>3</th>\n",
       "      <td>Manchester Arena bombing: Saffie Roussos's par...</td>\n",
       "      <td>Mon, 07 Mar 2022 00:05:40 GMT</td>\n",
       "      <td>https://www.bbc.co.uk/news/uk-60579079</td>\n",
       "      <td>https://www.bbc.co.uk/news/uk-60579079?at_medi...</td>\n",
       "      <td>The parents of the Manchester Arena bombing's ...</td>\n",
       "      <td>Manchester Arena bombing: Saffie Roussos's par...</td>\n",
       "    </tr>\n",
       "    <tr>\n",
       "      <th>4</th>\n",
       "      <td>Ukraine conflict: Oil price soars to highest l...</td>\n",
       "      <td>Mon, 07 Mar 2022 08:15:53 GMT</td>\n",
       "      <td>https://www.bbc.co.uk/news/business-60642786</td>\n",
       "      <td>https://www.bbc.co.uk/news/business-60642786?a...</td>\n",
       "      <td>Consumers are feeling the impact of higher ene...</td>\n",
       "      <td>Ukraine conflict: Oil price soars to highest l...</td>\n",
       "    </tr>\n",
       "  </tbody>\n",
       "</table>\n",
       "</div>"
      ],
      "text/plain": [
       "                                               title  \\\n",
       "0  Ukraine: Angry Zelensky vows to punish Russian...   \n",
       "1  War in Ukraine: Taking cover in a town under a...   \n",
       "2         Ukraine war 'catastrophic for global food'   \n",
       "3  Manchester Arena bombing: Saffie Roussos's par...   \n",
       "4  Ukraine conflict: Oil price soars to highest l...   \n",
       "\n",
       "                         pubDate  \\\n",
       "0  Mon, 07 Mar 2022 08:01:56 GMT   \n",
       "1  Sun, 06 Mar 2022 22:49:58 GMT   \n",
       "2  Mon, 07 Mar 2022 00:14:42 GMT   \n",
       "3  Mon, 07 Mar 2022 00:05:40 GMT   \n",
       "4  Mon, 07 Mar 2022 08:15:53 GMT   \n",
       "\n",
       "                                               guid  \\\n",
       "0  https://www.bbc.co.uk/news/world-europe-60638042   \n",
       "1  https://www.bbc.co.uk/news/world-europe-60641873   \n",
       "2      https://www.bbc.co.uk/news/business-60623941   \n",
       "3            https://www.bbc.co.uk/news/uk-60579079   \n",
       "4      https://www.bbc.co.uk/news/business-60642786   \n",
       "\n",
       "                                                link  \\\n",
       "0  https://www.bbc.co.uk/news/world-europe-606380...   \n",
       "1  https://www.bbc.co.uk/news/world-europe-606418...   \n",
       "2  https://www.bbc.co.uk/news/business-60623941?a...   \n",
       "3  https://www.bbc.co.uk/news/uk-60579079?at_medi...   \n",
       "4  https://www.bbc.co.uk/news/business-60642786?a...   \n",
       "\n",
       "                                         description  \\\n",
       "0  The Ukrainian president says the country will ...   \n",
       "1  Jeremy Bowen was on the frontline in Irpin, as...   \n",
       "2  One of the world's biggest fertiliser firms sa...   \n",
       "3  The parents of the Manchester Arena bombing's ...   \n",
       "4  Consumers are feeling the impact of higher ene...   \n",
       "\n",
       "                                                text  \n",
       "0  Ukraine: Angry Zelensky vows to punish Russian...  \n",
       "1  War in Ukraine: Taking cover in a town under a...  \n",
       "2  Ukraine war 'catastrophic for global food' One...  \n",
       "3  Manchester Arena bombing: Saffie Roussos's par...  \n",
       "4  Ukraine conflict: Oil price soars to highest l...  "
      ]
     },
     "execution_count": 10,
     "metadata": {},
     "output_type": "execute_result"
    }
   ],
   "source": [
    "df_bbc.head()"
   ]
  },
  {
   "cell_type": "code",
   "execution_count": null,
   "id": "0953a0d5",
   "metadata": {},
   "outputs": [],
   "source": [
    "# determine length of word\n",
    "df_bbc['word_in_description'] = df_bbc['text'].str.split().str.len()"
   ]
  },
  {
   "cell_type": "code",
   "execution_count": null,
   "id": "4bad903a",
   "metadata": {},
   "outputs": [
    {
     "data": {
      "text/plain": [
       "0        24\n",
       "1        28\n",
       "2        23\n",
       "3        26\n",
       "4        26\n",
       "         ..\n",
       "42110    30\n",
       "42111    30\n",
       "42112    22\n",
       "42113    23\n",
       "42114    29\n",
       "Name: word_in_description, Length: 39653, dtype: int64"
      ]
     },
     "execution_count": 12,
     "metadata": {},
     "output_type": "execute_result"
    }
   ],
   "source": [
    "# df_bbc['word_in_description']"
   ]
  },
  {
   "cell_type": "code",
   "execution_count": 13,
   "id": "91635825",
   "metadata": {},
   "outputs": [
    {
     "data": {
      "text/html": [
       "<div>\n",
       "<style scoped>\n",
       "    .dataframe tbody tr th:only-of-type {\n",
       "        vertical-align: middle;\n",
       "    }\n",
       "\n",
       "    .dataframe tbody tr th {\n",
       "        vertical-align: top;\n",
       "    }\n",
       "\n",
       "    .dataframe thead th {\n",
       "        text-align: right;\n",
       "    }\n",
       "</style>\n",
       "<table border=\"1\" class=\"dataframe\">\n",
       "  <thead>\n",
       "    <tr style=\"text-align: right;\">\n",
       "      <th></th>\n",
       "      <th>title</th>\n",
       "      <th>pubDate</th>\n",
       "      <th>guid</th>\n",
       "      <th>link</th>\n",
       "      <th>description</th>\n",
       "      <th>text</th>\n",
       "      <th>word_in_description</th>\n",
       "    </tr>\n",
       "  </thead>\n",
       "  <tbody>\n",
       "    <tr>\n",
       "      <th>0</th>\n",
       "      <td>Ukraine: Angry Zelensky vows to punish Russian...</td>\n",
       "      <td>Mon, 07 Mar 2022 08:01:56 GMT</td>\n",
       "      <td>https://www.bbc.co.uk/news/world-europe-60638042</td>\n",
       "      <td>https://www.bbc.co.uk/news/world-europe-606380...</td>\n",
       "      <td>The Ukrainian president says the country will ...</td>\n",
       "      <td>Ukraine: Angry Zelensky vows to punish Russian...</td>\n",
       "      <td>24</td>\n",
       "    </tr>\n",
       "    <tr>\n",
       "      <th>1</th>\n",
       "      <td>War in Ukraine: Taking cover in a town under a...</td>\n",
       "      <td>Sun, 06 Mar 2022 22:49:58 GMT</td>\n",
       "      <td>https://www.bbc.co.uk/news/world-europe-60641873</td>\n",
       "      <td>https://www.bbc.co.uk/news/world-europe-606418...</td>\n",
       "      <td>Jeremy Bowen was on the frontline in Irpin, as...</td>\n",
       "      <td>War in Ukraine: Taking cover in a town under a...</td>\n",
       "      <td>28</td>\n",
       "    </tr>\n",
       "  </tbody>\n",
       "</table>\n",
       "</div>"
      ],
      "text/plain": [
       "                                               title  \\\n",
       "0  Ukraine: Angry Zelensky vows to punish Russian...   \n",
       "1  War in Ukraine: Taking cover in a town under a...   \n",
       "\n",
       "                         pubDate  \\\n",
       "0  Mon, 07 Mar 2022 08:01:56 GMT   \n",
       "1  Sun, 06 Mar 2022 22:49:58 GMT   \n",
       "\n",
       "                                               guid  \\\n",
       "0  https://www.bbc.co.uk/news/world-europe-60638042   \n",
       "1  https://www.bbc.co.uk/news/world-europe-60641873   \n",
       "\n",
       "                                                link  \\\n",
       "0  https://www.bbc.co.uk/news/world-europe-606380...   \n",
       "1  https://www.bbc.co.uk/news/world-europe-606418...   \n",
       "\n",
       "                                         description  \\\n",
       "0  The Ukrainian president says the country will ...   \n",
       "1  Jeremy Bowen was on the frontline in Irpin, as...   \n",
       "\n",
       "                                                text  word_in_description  \n",
       "0  Ukraine: Angry Zelensky vows to punish Russian...                   24  \n",
       "1  War in Ukraine: Taking cover in a town under a...                   28  "
      ]
     },
     "execution_count": 13,
     "metadata": {},
     "output_type": "execute_result"
    }
   ],
   "source": [
    "df_bbc.head(2)"
   ]
  },
  {
   "cell_type": "markdown",
   "id": "66c2d5a4",
   "metadata": {},
   "source": [
    "# Training Pipelines "
   ]
  },
  {
   "cell_type": "code",
   "execution_count": null,
   "id": "9d429546",
   "metadata": {},
   "outputs": [],
   "source": []
  },
  {
   "cell_type": "code",
   "execution_count": null,
   "id": "07a12b07",
   "metadata": {},
   "outputs": [],
   "source": [
    "# NLP Processing \n",
    "nlp = spacy.load(\"en_core_web_sm\")\n",
    "\n",
    "from spacy.lang.en.stop_words import STOP_WORDS\n",
    "\n",
    "stopwords = list(STOP_WORDS)"
   ]
  },
  {
   "cell_type": "code",
   "execution_count": 15,
   "id": "397c5c23",
   "metadata": {},
   "outputs": [],
   "source": [
    "# test = df_bbc['text'][31]\n",
    "# doc = nlp(test)\n",
    "# print(doc.text)\n",
    "\n",
    "# for token in doc:\n",
    "#     print(token.text, token.pos_)"
   ]
  },
  {
   "cell_type": "code",
   "execution_count": 16,
   "id": "1fa36bf5",
   "metadata": {},
   "outputs": [
    {
     "name": "stdout",
     "output_type": "stream",
     "text": [
      "Ukraine: Angry Zelensky vows to punish Russian atrocities The Ukrainian president says the country will not forgive or forget those who murder its civilians.\n",
      "Russian -> NORP\n",
      "Ukrainian -> NORP\n"
     ]
    }
   ],
   "source": [
    "test = df_bbc['text'][0]\n",
    "doc = nlp(test)\n",
    "print(doc.text)\n",
    "\n",
    "for ent in doc.ents:\n",
    "    if ent.label_ == \"NORP\":\n",
    "        print(ent.text, \"->\", ent.label_)"
   ]
  },
  {
   "cell_type": "code",
   "execution_count": 17,
   "id": "09f978a4",
   "metadata": {},
   "outputs": [],
   "source": [
    "# def preprocessing(text):\n",
    "#     stopwords = set(STOP_WORDS)  # build once for O(1) lookup\n",
    "#     exclude_pos = {\"PUNCT\", \"SYM\", \"SPACE\"}  # predefine excluded POS\n",
    "#     doc = nlp(text)\n",
    "#     clean_tokens = [\n",
    "#         token.lemma_.lower()\n",
    "#         for token in doc\n",
    "#         if token.text.lower() not in stopwords and token.pos_ not in exclude_pos\n",
    "#     ]\n",
    "#     return \" \".join(clean_tokens)"
   ]
  },
  {
   "cell_type": "code",
   "execution_count": null,
   "id": "8745e014",
   "metadata": {},
   "outputs": [],
   "source": [
    "# Normalize everything to lowercase once\n",
    "abbrev_countries = {c.lower() for c in {\n",
    "    \"USA\", \"UK\", \"UAE\", \"DRC\", \"ROC\", \"China\", \"Russia\", \n",
    "    \"S. Korea\", \"South Korea\", \"N. Korea\", \"North Korea\", \n",
    "    \"Ivory Coast\", \"Syria\", \"Palestine\", \"Holland\", \"Burma\", \n",
    "    \"Zaire\", \"Kosovo\", \"Hong Kong\", \"Macau\", \"Scotland\", \n",
    "    \"Wales\", \"England\", \"Northern Ireland\", \"Taiwan\"\n",
    "}}\n",
    "\n",
    "# Set of all official ISO-recognized country names (normalized to lowercase)\n",
    "official_countries = {c.name.lower() for c in pycountry.countries}\n",
    "\n",
    "def get_countries(text):\n",
    "    \"\"\"\n",
    "    Extract countries from a given text using spaCy NER + pycountry.\n",
    "    \n",
    "    Args:\n",
    "        text (str): Input text to analyze.\n",
    "    \n",
    "    Returns:\n",
    "        list: Unique list of country names or abbreviations mentioned in the text.\n",
    "    \n",
    "    Process:\n",
    "    1. Run spaCy's NLP pipeline on the text.\n",
    "    2. Collect named entities labeled as 'GPE' (Geo-Political Entity).\n",
    "    3. Keep only those that match official countries or known abbreviations.\n",
    "    4. Return a unique list of matches (case-insensitive).\n",
    "    \"\"\"\n",
    "    # Process text with spaCy model\n",
    "    doc = nlp(text)\n",
    "\n",
    "    # Use a set to avoid duplicates, then convert to list\n",
    "    return list({\n",
    "        ent.text.strip()\n",
    "        for ent in doc.ents\n",
    "        if ent.label_ == \"GPE\" and ent.text.lower() in official_countries.union(abbrev_countries) # only consider Geo-Political Entities\n",
    "    })\n"
   ]
  },
  {
   "cell_type": "code",
   "execution_count": null,
   "id": "d528b063",
   "metadata": {},
   "outputs": [],
   "source": [
    "# get nationalities\n",
    "\n",
    "def get_nationalities(text):\n",
    "    doc = nlp(text) # Process text with spaCy model\n",
    "    \n",
    "    return list({\n",
    "        ent.text.lower().strip()\n",
    "        for ent in doc.ents\n",
    "        if ent.label_ == \"NORP\"\n",
    "    })\n"
   ]
  },
  {
   "cell_type": "code",
   "execution_count": null,
   "id": "825dc4a8",
   "metadata": {},
   "outputs": [],
   "source": [
    "# Initialize geonamescache\n",
    "gc = geonamescache.GeonamesCache()\n",
    "\n",
    "# Precompute a set of all city names (lowercased) for fast membership lookup\n",
    "# Using a set makes \"is this a city?\" checks O(1) instead of O(n).\n",
    "all_cities = {city['name'].lower() for city in gc.get_cities().values()}  # precompute once\n",
    "\n",
    "def get_cities(text):\n",
    "    \"\"\"\n",
    "    Extract cities from a given text using spaCy NER + geonamescache lookup.\n",
    "\n",
    "    Args:\n",
    "        text (str): Input text to analyze.\n",
    "\n",
    "    Returns:\n",
    "        list: List of detected city names (lowercased) found in the text.\n",
    "\n",
    "    Process:\n",
    "    1. Run spaCy's NLP pipeline on the text.\n",
    "    2. Collect named entities from spaCy.\n",
    "    3. Check if the entity text matches a known city in geonamescache.\n",
    "    4. Return a list of all matches (duplicates may occur if cities repeat).\n",
    "    \"\"\"\n",
    "    # run through spacy model \n",
    "    doc = nlp(text)\n",
    "    # Collect entities that match known city names\n",
    "    return [ent.text.lower() for ent in doc.ents if ent.text.lower() in all_cities]\n",
    "        "
   ]
  },
  {
   "cell_type": "code",
   "execution_count": null,
   "id": "acee0587",
   "metadata": {},
   "outputs": [],
   "source": []
  },
  {
   "cell_type": "code",
   "execution_count": 21,
   "id": "1ec886e1",
   "metadata": {},
   "outputs": [],
   "source": [
    "# df_bbc['processed_desc'] = df_bbc['text'].map(preprocessing)"
   ]
  },
  {
   "cell_type": "code",
   "execution_count": null,
   "id": "7a67950e",
   "metadata": {},
   "outputs": [],
   "source": [
    "# extract countries \n",
    "df_bbc['countries'] = df_bbc['text'].map(get_countries)"
   ]
  },
  {
   "cell_type": "code",
   "execution_count": null,
   "id": "8b9607a7",
   "metadata": {},
   "outputs": [],
   "source": [
    "# extract nationalities / ideologies \n",
    "df_bbc['nationalities'] = df_bbc['text'].map(get_nationalities)"
   ]
  },
  {
   "cell_type": "code",
   "execution_count": null,
   "id": "22109366",
   "metadata": {},
   "outputs": [],
   "source": [
    "# extract cities \n",
    "df_bbc['cities'] = df_bbc['text'].map(get_cities)"
   ]
  },
  {
   "cell_type": "code",
   "execution_count": 25,
   "id": "f7403616",
   "metadata": {},
   "outputs": [],
   "source": [
    "# remove empty sets \n",
    "df_bbc['countries'] = df_bbc['countries'].apply(lambda x: str(x) if x else '' )\n",
    "df_bbc['nationalities'] = df_bbc['nationalities'].apply(lambda x: str(x) if x else '' )\n",
    "df_bbc['cities'] = df_bbc['cities'].apply(lambda x: str(x) if x else '' )"
   ]
  },
  {
   "cell_type": "code",
   "execution_count": 26,
   "id": "3a1219b2",
   "metadata": {},
   "outputs": [],
   "source": [
    "# df_bbc = df_bbc[['text', 'processed_desc', 'countries', 'nationalities', 'cities' ]]\n",
    "df_bbc = df_bbc[['text', 'countries', 'nationalities', 'cities' ]]"
   ]
  },
  {
   "cell_type": "code",
   "execution_count": 27,
   "id": "3cd5826f",
   "metadata": {},
   "outputs": [
    {
     "data": {
      "text/html": [
       "<div>\n",
       "<style scoped>\n",
       "    .dataframe tbody tr th:only-of-type {\n",
       "        vertical-align: middle;\n",
       "    }\n",
       "\n",
       "    .dataframe tbody tr th {\n",
       "        vertical-align: top;\n",
       "    }\n",
       "\n",
       "    .dataframe thead th {\n",
       "        text-align: right;\n",
       "    }\n",
       "</style>\n",
       "<table border=\"1\" class=\"dataframe\">\n",
       "  <thead>\n",
       "    <tr style=\"text-align: right;\">\n",
       "      <th></th>\n",
       "      <th>text</th>\n",
       "      <th>countries</th>\n",
       "      <th>nationalities</th>\n",
       "      <th>cities</th>\n",
       "    </tr>\n",
       "  </thead>\n",
       "  <tbody>\n",
       "    <tr>\n",
       "      <th>0</th>\n",
       "      <td>Ukraine: Angry Zelensky vows to punish Russian...</td>\n",
       "      <td>['Ukraine']</td>\n",
       "      <td>['ukrainian', 'russian']</td>\n",
       "      <td></td>\n",
       "    </tr>\n",
       "    <tr>\n",
       "      <th>1</th>\n",
       "      <td>War in Ukraine: Taking cover in a town under a...</td>\n",
       "      <td>['Ukraine']</td>\n",
       "      <td>['russian']</td>\n",
       "      <td>['irpin']</td>\n",
       "    </tr>\n",
       "  </tbody>\n",
       "</table>\n",
       "</div>"
      ],
      "text/plain": [
       "                                                text    countries  \\\n",
       "0  Ukraine: Angry Zelensky vows to punish Russian...  ['Ukraine']   \n",
       "1  War in Ukraine: Taking cover in a town under a...  ['Ukraine']   \n",
       "\n",
       "              nationalities     cities  \n",
       "0  ['ukrainian', 'russian']             \n",
       "1               ['russian']  ['irpin']  "
      ]
     },
     "execution_count": 27,
     "metadata": {},
     "output_type": "execute_result"
    }
   ],
   "source": [
    "df_bbc.head(2)"
   ]
  },
  {
   "cell_type": "code",
   "execution_count": null,
   "id": "c2d317db",
   "metadata": {},
   "outputs": [],
   "source": []
  },
  {
   "cell_type": "code",
   "execution_count": 36,
   "id": "c9b3d287",
   "metadata": {},
   "outputs": [],
   "source": [
    "cols_to_split = ['countries', 'nationalities', 'cities']\n",
    "\n",
    "def safe_split(x):\n",
    "    if pd.isna(x):               # None/NaN → empty list\n",
    "        return []\n",
    "    if isinstance(x, list):      # already list → leave it\n",
    "        return x\n",
    "    if isinstance(x, str):       # split string by comma\n",
    "        return [i.strip() for i in x.split(\",\") if i.strip() != \"\"]\n",
    "    return []\n",
    "\n",
    "for col in cols_to_split:\n",
    "    df_bbc[col] = df_bbc[col].apply(safe_split)\n"
   ]
  },
  {
   "cell_type": "code",
   "execution_count": 37,
   "id": "766750d5",
   "metadata": {},
   "outputs": [],
   "source": [
    "# ​​Function to pad lists to the same length\n",
    "def pad_lists(row):\n",
    "    max_len = max(len(row['countries']), len(row['nationalities']), len(row['cities']))\n",
    "    row['countries'] += [None] * (max_len - len(row['countries']))\n",
    "    row['nationalities'] += [None] * (max_len - len(row['nationalities']))\n",
    "    row['cities'] += [None] * (max_len - len(row['cities']))\n",
    "    return row\n",
    "\n",
    "# Apply the padding function to each row\n",
    "df_bbc = df_bbc.apply(pad_lists, axis=1)\n",
    "\n",
    "# Now, safely explode both columns\n",
    "df_bbc = df_bbc.explode(['countries','nationalities', 'cities'])"
   ]
  },
  {
   "cell_type": "code",
   "execution_count": 38,
   "id": "89a87ff3",
   "metadata": {},
   "outputs": [
    {
     "data": {
      "text/html": [
       "<div>\n",
       "<style scoped>\n",
       "    .dataframe tbody tr th:only-of-type {\n",
       "        vertical-align: middle;\n",
       "    }\n",
       "\n",
       "    .dataframe tbody tr th {\n",
       "        vertical-align: top;\n",
       "    }\n",
       "\n",
       "    .dataframe thead th {\n",
       "        text-align: right;\n",
       "    }\n",
       "</style>\n",
       "<table border=\"1\" class=\"dataframe\">\n",
       "  <thead>\n",
       "    <tr style=\"text-align: right;\">\n",
       "      <th></th>\n",
       "      <th>text</th>\n",
       "      <th>countries</th>\n",
       "      <th>nationalities</th>\n",
       "      <th>cities</th>\n",
       "    </tr>\n",
       "  </thead>\n",
       "  <tbody>\n",
       "    <tr>\n",
       "      <th>0</th>\n",
       "      <td>Ukraine: Angry Zelensky vows to punish Russian...</td>\n",
       "      <td>['Ukraine']</td>\n",
       "      <td>['ukrainian'</td>\n",
       "      <td>None</td>\n",
       "    </tr>\n",
       "    <tr>\n",
       "      <th>0</th>\n",
       "      <td>Ukraine: Angry Zelensky vows to punish Russian...</td>\n",
       "      <td>None</td>\n",
       "      <td>'russian']</td>\n",
       "      <td>None</td>\n",
       "    </tr>\n",
       "    <tr>\n",
       "      <th>1</th>\n",
       "      <td>War in Ukraine: Taking cover in a town under a...</td>\n",
       "      <td>['Ukraine']</td>\n",
       "      <td>['russian']</td>\n",
       "      <td>['irpin']</td>\n",
       "    </tr>\n",
       "    <tr>\n",
       "      <th>2</th>\n",
       "      <td>Ukraine war 'catastrophic for global food' One...</td>\n",
       "      <td>['Ukraine']</td>\n",
       "      <td>None</td>\n",
       "      <td>None</td>\n",
       "    </tr>\n",
       "    <tr>\n",
       "      <th>3</th>\n",
       "      <td>Manchester Arena bombing: Saffie Roussos's par...</td>\n",
       "      <td>NaN</td>\n",
       "      <td>NaN</td>\n",
       "      <td>NaN</td>\n",
       "    </tr>\n",
       "  </tbody>\n",
       "</table>\n",
       "</div>"
      ],
      "text/plain": [
       "                                                text    countries  \\\n",
       "0  Ukraine: Angry Zelensky vows to punish Russian...  ['Ukraine']   \n",
       "0  Ukraine: Angry Zelensky vows to punish Russian...         None   \n",
       "1  War in Ukraine: Taking cover in a town under a...  ['Ukraine']   \n",
       "2  Ukraine war 'catastrophic for global food' One...  ['Ukraine']   \n",
       "3  Manchester Arena bombing: Saffie Roussos's par...          NaN   \n",
       "\n",
       "  nationalities     cities  \n",
       "0  ['ukrainian'       None  \n",
       "0    'russian']       None  \n",
       "1   ['russian']  ['irpin']  \n",
       "2          None       None  \n",
       "3           NaN        NaN  "
      ]
     },
     "execution_count": 38,
     "metadata": {},
     "output_type": "execute_result"
    }
   ],
   "source": [
    "df_bbc.head()"
   ]
  },
  {
   "cell_type": "code",
   "execution_count": 39,
   "id": "f5b20042",
   "metadata": {},
   "outputs": [],
   "source": [
    "# df_bbc.replace(\"np.nan\", \"\", inplace=True)\n"
   ]
  },
  {
   "cell_type": "code",
   "execution_count": null,
   "id": "7c809d15",
   "metadata": {},
   "outputs": [],
   "source": []
  },
  {
   "cell_type": "code",
   "execution_count": 40,
   "id": "fa34e1da",
   "metadata": {},
   "outputs": [],
   "source": [
    "df_bbc.countries = df_bbc.countries.str.replace(\"[\", \"\").str.replace(\"]\", \"\").str.replace(\"'\", \"\").str.replace(\",\", \"\")\n",
    "df_bbc.nationalities = df_bbc.nationalities.str.replace(\"[\", \"\").str.replace(\"]\", \"\").str.replace(\"'\", \"\").str.replace(\",\", \"\")\n",
    "df_bbc.cities = df_bbc.cities.str.replace(\"[\", \"\").str.replace(\"]\", \"\").str.replace(\"'\", \"\").str.replace(\",\", \"\")\n"
   ]
  },
  {
   "cell_type": "code",
   "execution_count": 41,
   "id": "748f66a6",
   "metadata": {},
   "outputs": [],
   "source": [
    "df_bbc.fillna(\"\", inplace=True)"
   ]
  },
  {
   "cell_type": "code",
   "execution_count": 42,
   "id": "ae44f2a7",
   "metadata": {},
   "outputs": [],
   "source": [
    "# capitalize nationality values for better exploration\n",
    "df_bbc.nationalities = df_bbc.nationalities.str.capitalize()\n",
    "df_bbc.cities = df_bbc.cities.str.capitalize()"
   ]
  },
  {
   "cell_type": "code",
   "execution_count": 43,
   "id": "64142d72",
   "metadata": {},
   "outputs": [
    {
     "data": {
      "text/plain": [
       "countries\n",
       "                      31172\n",
       "UK                     2379\n",
       "England                2036\n",
       "Ukraine                1800\n",
       "Russia                  992\n",
       "                      ...  \n",
       "Sierra Leone              1\n",
       "Eritrea                   1\n",
       "Burundi                   1\n",
       "Dominican Republic        1\n",
       "Equatorial Guinea         1\n",
       "Name: count, Length: 157, dtype: int64"
      ]
     },
     "execution_count": 43,
     "metadata": {},
     "output_type": "execute_result"
    }
   ],
   "source": [
    "df_bbc.countries.value_counts()"
   ]
  },
  {
   "cell_type": "code",
   "execution_count": 44,
   "id": "f1b8e0bc",
   "metadata": {},
   "outputs": [],
   "source": [
    "df_bbc.replace('USA', 'United States', inplace=True)"
   ]
  },
  {
   "cell_type": "code",
   "execution_count": null,
   "id": "96559cdb",
   "metadata": {},
   "outputs": [
    {
     "data": {
      "text/plain": [
       "57"
      ]
     },
     "execution_count": 57,
     "metadata": {},
     "output_type": "execute_result"
    }
   ],
   "source": []
  },
  {
   "cell_type": "code",
   "execution_count": 45,
   "id": "35f38b42",
   "metadata": {},
   "outputs": [],
   "source": [
    "df_bbc.to_csv('dataset/new_data.csv', index=False)"
   ]
  },
  {
   "cell_type": "code",
   "execution_count": null,
   "id": "ed160e21",
   "metadata": {},
   "outputs": [],
   "source": [
    "# df_bbc[\"notice\"] = df_bbc[\"text\"].apply(\n",
    "#     lambda x: \"Found\" if \"usa\" in x.lower() else \"Not Found\"\n",
    "# )\n"
   ]
  },
  {
   "cell_type": "code",
   "execution_count": null,
   "id": "cd5d7f0c",
   "metadata": {},
   "outputs": [],
   "source": []
  }
 ],
 "metadata": {
  "kernelspec": {
   "display_name": "newsenv",
   "language": "python",
   "name": "python3"
  },
  "language_info": {
   "codemirror_mode": {
    "name": "ipython",
    "version": 3
   },
   "file_extension": ".py",
   "mimetype": "text/x-python",
   "name": "python",
   "nbconvert_exporter": "python",
   "pygments_lexer": "ipython3",
   "version": "3.10.12"
  }
 },
 "nbformat": 4,
 "nbformat_minor": 5
}
